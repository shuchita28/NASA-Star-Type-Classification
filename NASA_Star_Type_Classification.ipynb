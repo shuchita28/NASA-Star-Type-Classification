{
  "cells": [
    {
      "cell_type": "code",
      "execution_count": 19,
      "metadata": {},
      "outputs": [],
      "source": [
        "#!pip install plotly --quiet\n",
        "#!pip install streamlit "
      ]
    },
    {
      "cell_type": "code",
      "execution_count": 20,
      "metadata": {
        "id": "bzZIVuBB3rLL"
      },
      "outputs": [],
      "source": [
        "import pandas as pd\n",
        "import matplotlib.pyplot as plt\n",
        "import numpy as np\n",
        "import seaborn as sns\n",
        "import plotly.express as px\n",
        "from sklearn.model_selection import train_test_split\n",
        "from sklearn import preprocessing\n",
        "from sklearn.preprocessing import LabelEncoder\n",
        "from sklearn.neighbors import KNeighborsClassifier\n",
        "from sklearn import datasets, linear_model, metrics\n",
        "from sklearn.metrics import  confusion_matrix\n",
        "from sklearn.metrics import accuracy_score, confusion_matrix, classification_report\n",
        "from sklearn.preprocessing import StandardScaler\n",
        "from sklearn.metrics import classification_report,confusion_matrix\n",
        "from sklearn.model_selection import cross_val_score\n",
        "from sklearn.model_selection import GridSearchCV\n",
        "import streamlit as st\n",
        "import pandas as pd\n",
        "import pickle\n",
        "from PIL import Image"
      ]
    },
    {
      "cell_type": "code",
      "execution_count": 21,
      "metadata": {
        "id": "dwHf28Ee31Nx"
      },
      "outputs": [],
      "source": [
        "stars = pd.read_csv('/Users/shuchitamishra/Desktop/Jobs/OA/NASA-Star-Type-Classification/Stars.csv')"
      ]
    },
    {
      "cell_type": "code",
      "execution_count": 22,
      "metadata": {
        "colab": {
          "base_uri": "https://localhost:8080/",
          "height": 363
        },
        "id": "tLLpDvb_35pR",
        "outputId": "5a28e7b7-81a9-4279-c0c3-36988cecd70d"
      },
      "outputs": [
        {
          "data": {
            "text/html": [
              "<div>\n",
              "<style scoped>\n",
              "    .dataframe tbody tr th:only-of-type {\n",
              "        vertical-align: middle;\n",
              "    }\n",
              "\n",
              "    .dataframe tbody tr th {\n",
              "        vertical-align: top;\n",
              "    }\n",
              "\n",
              "    .dataframe thead th {\n",
              "        text-align: right;\n",
              "    }\n",
              "</style>\n",
              "<table border=\"1\" class=\"dataframe\">\n",
              "  <thead>\n",
              "    <tr style=\"text-align: right;\">\n",
              "      <th></th>\n",
              "      <th>Temperature</th>\n",
              "      <th>L</th>\n",
              "      <th>R</th>\n",
              "      <th>A_M</th>\n",
              "      <th>Color</th>\n",
              "      <th>Spectral_Class</th>\n",
              "      <th>Type</th>\n",
              "    </tr>\n",
              "  </thead>\n",
              "  <tbody>\n",
              "    <tr>\n",
              "      <th>0</th>\n",
              "      <td>3068</td>\n",
              "      <td>0.002400</td>\n",
              "      <td>0.1700</td>\n",
              "      <td>16.12</td>\n",
              "      <td>Red</td>\n",
              "      <td>M</td>\n",
              "      <td>0</td>\n",
              "    </tr>\n",
              "    <tr>\n",
              "      <th>1</th>\n",
              "      <td>3042</td>\n",
              "      <td>0.000500</td>\n",
              "      <td>0.1542</td>\n",
              "      <td>16.60</td>\n",
              "      <td>Red</td>\n",
              "      <td>M</td>\n",
              "      <td>0</td>\n",
              "    </tr>\n",
              "    <tr>\n",
              "      <th>2</th>\n",
              "      <td>2600</td>\n",
              "      <td>0.000300</td>\n",
              "      <td>0.1020</td>\n",
              "      <td>18.70</td>\n",
              "      <td>Red</td>\n",
              "      <td>M</td>\n",
              "      <td>0</td>\n",
              "    </tr>\n",
              "    <tr>\n",
              "      <th>3</th>\n",
              "      <td>2800</td>\n",
              "      <td>0.000200</td>\n",
              "      <td>0.1600</td>\n",
              "      <td>16.65</td>\n",
              "      <td>Red</td>\n",
              "      <td>M</td>\n",
              "      <td>0</td>\n",
              "    </tr>\n",
              "    <tr>\n",
              "      <th>4</th>\n",
              "      <td>1939</td>\n",
              "      <td>0.000138</td>\n",
              "      <td>0.1030</td>\n",
              "      <td>20.06</td>\n",
              "      <td>Red</td>\n",
              "      <td>M</td>\n",
              "      <td>0</td>\n",
              "    </tr>\n",
              "    <tr>\n",
              "      <th>5</th>\n",
              "      <td>2840</td>\n",
              "      <td>0.000650</td>\n",
              "      <td>0.1100</td>\n",
              "      <td>16.98</td>\n",
              "      <td>Red</td>\n",
              "      <td>M</td>\n",
              "      <td>0</td>\n",
              "    </tr>\n",
              "    <tr>\n",
              "      <th>6</th>\n",
              "      <td>2637</td>\n",
              "      <td>0.000730</td>\n",
              "      <td>0.1270</td>\n",
              "      <td>17.22</td>\n",
              "      <td>Red</td>\n",
              "      <td>M</td>\n",
              "      <td>0</td>\n",
              "    </tr>\n",
              "    <tr>\n",
              "      <th>7</th>\n",
              "      <td>2600</td>\n",
              "      <td>0.000400</td>\n",
              "      <td>0.0960</td>\n",
              "      <td>17.40</td>\n",
              "      <td>Red</td>\n",
              "      <td>M</td>\n",
              "      <td>0</td>\n",
              "    </tr>\n",
              "    <tr>\n",
              "      <th>8</th>\n",
              "      <td>2650</td>\n",
              "      <td>0.000690</td>\n",
              "      <td>0.1100</td>\n",
              "      <td>17.45</td>\n",
              "      <td>Red</td>\n",
              "      <td>M</td>\n",
              "      <td>0</td>\n",
              "    </tr>\n",
              "    <tr>\n",
              "      <th>9</th>\n",
              "      <td>2700</td>\n",
              "      <td>0.000180</td>\n",
              "      <td>0.1300</td>\n",
              "      <td>16.05</td>\n",
              "      <td>Red</td>\n",
              "      <td>M</td>\n",
              "      <td>0</td>\n",
              "    </tr>\n",
              "  </tbody>\n",
              "</table>\n",
              "</div>"
            ],
            "text/plain": [
              "   Temperature         L       R    A_M Color Spectral_Class  Type\n",
              "0         3068  0.002400  0.1700  16.12   Red              M     0\n",
              "1         3042  0.000500  0.1542  16.60   Red              M     0\n",
              "2         2600  0.000300  0.1020  18.70   Red              M     0\n",
              "3         2800  0.000200  0.1600  16.65   Red              M     0\n",
              "4         1939  0.000138  0.1030  20.06   Red              M     0\n",
              "5         2840  0.000650  0.1100  16.98   Red              M     0\n",
              "6         2637  0.000730  0.1270  17.22   Red              M     0\n",
              "7         2600  0.000400  0.0960  17.40   Red              M     0\n",
              "8         2650  0.000690  0.1100  17.45   Red              M     0\n",
              "9         2700  0.000180  0.1300  16.05   Red              M     0"
            ]
          },
          "execution_count": 22,
          "metadata": {},
          "output_type": "execute_result"
        }
      ],
      "source": [
        "stars.head(10)"
      ]
    },
    {
      "cell_type": "code",
      "execution_count": 23,
      "metadata": {
        "id": "eFux1fND54lA"
      },
      "outputs": [],
      "source": [
        "index = stars.index\n",
        "index.name = 'Index'"
      ]
    },
    {
      "cell_type": "code",
      "execution_count": 24,
      "metadata": {
        "colab": {
          "base_uri": "https://localhost:8080/",
          "height": 175
        },
        "id": "xCfO1-AX7Lzs",
        "outputId": "ce20e130-2430-432f-fcd9-1df5868b0c78"
      },
      "outputs": [
        {
          "data": {
            "text/html": [
              "<div>\n",
              "<style scoped>\n",
              "    .dataframe tbody tr th:only-of-type {\n",
              "        vertical-align: middle;\n",
              "    }\n",
              "\n",
              "    .dataframe tbody tr th {\n",
              "        vertical-align: top;\n",
              "    }\n",
              "\n",
              "    .dataframe thead th {\n",
              "        text-align: right;\n",
              "    }\n",
              "</style>\n",
              "<table border=\"1\" class=\"dataframe\">\n",
              "  <thead>\n",
              "    <tr style=\"text-align: right;\">\n",
              "      <th></th>\n",
              "      <th>Temperature</th>\n",
              "      <th>L</th>\n",
              "      <th>R</th>\n",
              "      <th>A_M</th>\n",
              "      <th>Color</th>\n",
              "      <th>Spectral_Class</th>\n",
              "      <th>Type</th>\n",
              "    </tr>\n",
              "    <tr>\n",
              "      <th>Index</th>\n",
              "      <th></th>\n",
              "      <th></th>\n",
              "      <th></th>\n",
              "      <th></th>\n",
              "      <th></th>\n",
              "      <th></th>\n",
              "      <th></th>\n",
              "    </tr>\n",
              "  </thead>\n",
              "  <tbody>\n",
              "    <tr>\n",
              "      <th>0</th>\n",
              "      <td>3068</td>\n",
              "      <td>0.0024</td>\n",
              "      <td>0.1700</td>\n",
              "      <td>16.12</td>\n",
              "      <td>Red</td>\n",
              "      <td>M</td>\n",
              "      <td>0</td>\n",
              "    </tr>\n",
              "    <tr>\n",
              "      <th>1</th>\n",
              "      <td>3042</td>\n",
              "      <td>0.0005</td>\n",
              "      <td>0.1542</td>\n",
              "      <td>16.60</td>\n",
              "      <td>Red</td>\n",
              "      <td>M</td>\n",
              "      <td>0</td>\n",
              "    </tr>\n",
              "    <tr>\n",
              "      <th>2</th>\n",
              "      <td>2600</td>\n",
              "      <td>0.0003</td>\n",
              "      <td>0.1020</td>\n",
              "      <td>18.70</td>\n",
              "      <td>Red</td>\n",
              "      <td>M</td>\n",
              "      <td>0</td>\n",
              "    </tr>\n",
              "  </tbody>\n",
              "</table>\n",
              "</div>"
            ],
            "text/plain": [
              "       Temperature       L       R    A_M Color Spectral_Class  Type\n",
              "Index                                                               \n",
              "0             3068  0.0024  0.1700  16.12   Red              M     0\n",
              "1             3042  0.0005  0.1542  16.60   Red              M     0\n",
              "2             2600  0.0003  0.1020  18.70   Red              M     0"
            ]
          },
          "execution_count": 24,
          "metadata": {},
          "output_type": "execute_result"
        }
      ],
      "source": [
        "stars.head(3)"
      ]
    },
    {
      "cell_type": "code",
      "execution_count": 25,
      "metadata": {
        "colab": {
          "base_uri": "https://localhost:8080/"
        },
        "id": "KmNabCaj37AV",
        "outputId": "51aedf24-2573-4d39-af44-dc9e098db769"
      },
      "outputs": [
        {
          "data": {
            "text/plain": [
              "Index(['Temperature', 'L', 'R', 'A_M', 'Color', 'Spectral_Class', 'Type'], dtype='object')"
            ]
          },
          "execution_count": 25,
          "metadata": {},
          "output_type": "execute_result"
        }
      ],
      "source": [
        "stars.columns"
      ]
    },
    {
      "cell_type": "code",
      "execution_count": 26,
      "metadata": {
        "colab": {
          "base_uri": "https://localhost:8080/"
        },
        "id": "jhnfK1-g5W1J",
        "outputId": "bc97077a-d21f-47bb-fa0a-caf6bc746257"
      },
      "outputs": [
        {
          "name": "stdout",
          "output_type": "stream",
          "text": [
            "<class 'pandas.core.frame.DataFrame'>\n",
            "RangeIndex: 240 entries, 0 to 239\n",
            "Data columns (total 7 columns):\n",
            " #   Column          Non-Null Count  Dtype  \n",
            "---  ------          --------------  -----  \n",
            " 0   Temperature     240 non-null    int64  \n",
            " 1   L               240 non-null    float64\n",
            " 2   R               240 non-null    float64\n",
            " 3   A_M             240 non-null    float64\n",
            " 4   Color           240 non-null    object \n",
            " 5   Spectral_Class  240 non-null    object \n",
            " 6   Type            240 non-null    int64  \n",
            "dtypes: float64(3), int64(2), object(2)\n",
            "memory usage: 13.2+ KB\n"
          ]
        }
      ],
      "source": [
        "stars.info()"
      ]
    },
    {
      "cell_type": "code",
      "execution_count": 27,
      "metadata": {
        "colab": {
          "base_uri": "https://localhost:8080/"
        },
        "id": "AGpiz5ub5gnn",
        "outputId": "efcf198a-6d34-46f2-f8b8-89934a890d7a"
      },
      "outputs": [
        {
          "data": {
            "text/plain": [
              "Temperature       0\n",
              "L                 0\n",
              "R                 0\n",
              "A_M               0\n",
              "Color             0\n",
              "Spectral_Class    0\n",
              "Type              0\n",
              "dtype: int64"
            ]
          },
          "execution_count": 27,
          "metadata": {},
          "output_type": "execute_result"
        }
      ],
      "source": [
        "stars.isna().sum()"
      ]
    },
    {
      "cell_type": "code",
      "execution_count": 28,
      "metadata": {
        "colab": {
          "base_uri": "https://localhost:8080/",
          "height": 300
        },
        "id": "eFQVIpZh5jRE",
        "outputId": "f5d016eb-5c9d-4e4a-be4d-03919e968182"
      },
      "outputs": [
        {
          "data": {
            "text/html": [
              "<div>\n",
              "<style scoped>\n",
              "    .dataframe tbody tr th:only-of-type {\n",
              "        vertical-align: middle;\n",
              "    }\n",
              "\n",
              "    .dataframe tbody tr th {\n",
              "        vertical-align: top;\n",
              "    }\n",
              "\n",
              "    .dataframe thead th {\n",
              "        text-align: right;\n",
              "    }\n",
              "</style>\n",
              "<table border=\"1\" class=\"dataframe\">\n",
              "  <thead>\n",
              "    <tr style=\"text-align: right;\">\n",
              "      <th></th>\n",
              "      <th>Temperature</th>\n",
              "      <th>L</th>\n",
              "      <th>R</th>\n",
              "      <th>A_M</th>\n",
              "      <th>Type</th>\n",
              "    </tr>\n",
              "  </thead>\n",
              "  <tbody>\n",
              "    <tr>\n",
              "      <th>count</th>\n",
              "      <td>240.000000</td>\n",
              "      <td>240.000000</td>\n",
              "      <td>240.000000</td>\n",
              "      <td>240.000000</td>\n",
              "      <td>240.000000</td>\n",
              "    </tr>\n",
              "    <tr>\n",
              "      <th>mean</th>\n",
              "      <td>10497.462500</td>\n",
              "      <td>107188.361635</td>\n",
              "      <td>237.157781</td>\n",
              "      <td>4.382396</td>\n",
              "      <td>2.500000</td>\n",
              "    </tr>\n",
              "    <tr>\n",
              "      <th>std</th>\n",
              "      <td>9552.425037</td>\n",
              "      <td>179432.244940</td>\n",
              "      <td>517.155763</td>\n",
              "      <td>10.532512</td>\n",
              "      <td>1.711394</td>\n",
              "    </tr>\n",
              "    <tr>\n",
              "      <th>min</th>\n",
              "      <td>1939.000000</td>\n",
              "      <td>0.000080</td>\n",
              "      <td>0.008400</td>\n",
              "      <td>-11.920000</td>\n",
              "      <td>0.000000</td>\n",
              "    </tr>\n",
              "    <tr>\n",
              "      <th>25%</th>\n",
              "      <td>3344.250000</td>\n",
              "      <td>0.000865</td>\n",
              "      <td>0.102750</td>\n",
              "      <td>-6.232500</td>\n",
              "      <td>1.000000</td>\n",
              "    </tr>\n",
              "    <tr>\n",
              "      <th>50%</th>\n",
              "      <td>5776.000000</td>\n",
              "      <td>0.070500</td>\n",
              "      <td>0.762500</td>\n",
              "      <td>8.313000</td>\n",
              "      <td>2.500000</td>\n",
              "    </tr>\n",
              "    <tr>\n",
              "      <th>75%</th>\n",
              "      <td>15055.500000</td>\n",
              "      <td>198050.000000</td>\n",
              "      <td>42.750000</td>\n",
              "      <td>13.697500</td>\n",
              "      <td>4.000000</td>\n",
              "    </tr>\n",
              "    <tr>\n",
              "      <th>max</th>\n",
              "      <td>40000.000000</td>\n",
              "      <td>849420.000000</td>\n",
              "      <td>1948.500000</td>\n",
              "      <td>20.060000</td>\n",
              "      <td>5.000000</td>\n",
              "    </tr>\n",
              "  </tbody>\n",
              "</table>\n",
              "</div>"
            ],
            "text/plain": [
              "        Temperature              L            R         A_M        Type\n",
              "count    240.000000     240.000000   240.000000  240.000000  240.000000\n",
              "mean   10497.462500  107188.361635   237.157781    4.382396    2.500000\n",
              "std     9552.425037  179432.244940   517.155763   10.532512    1.711394\n",
              "min     1939.000000       0.000080     0.008400  -11.920000    0.000000\n",
              "25%     3344.250000       0.000865     0.102750   -6.232500    1.000000\n",
              "50%     5776.000000       0.070500     0.762500    8.313000    2.500000\n",
              "75%    15055.500000  198050.000000    42.750000   13.697500    4.000000\n",
              "max    40000.000000  849420.000000  1948.500000   20.060000    5.000000"
            ]
          },
          "execution_count": 28,
          "metadata": {},
          "output_type": "execute_result"
        }
      ],
      "source": [
        "stars.describe()"
      ]
    },
    {
      "cell_type": "code",
      "execution_count": 29,
      "metadata": {
        "colab": {
          "base_uri": "https://localhost:8080/"
        },
        "id": "xpleZL3p7-v7",
        "outputId": "4fa0c904-4984-4ffd-a9b0-2104978037d3"
      },
      "outputs": [
        {
          "name": "stderr",
          "output_type": "stream",
          "text": [
            "/var/folders/4l/0y89syxx6vgbqsxp801nxh300000gn/T/ipykernel_14406/4131831959.py:1: FutureWarning: Dropping of nuisance columns in DataFrame reductions (with 'numeric_only=None') is deprecated; in a future version this will raise TypeError.  Select only valid columns before calling the reduction.\n",
            "  stars.skew()\n"
          ]
        },
        {
          "data": {
            "text/plain": [
              "Temperature    1.321568\n",
              "L              2.068069\n",
              "R              1.946800\n",
              "A_M           -0.121540\n",
              "Type           0.000000\n",
              "dtype: float64"
            ]
          },
          "execution_count": 29,
          "metadata": {},
          "output_type": "execute_result"
        }
      ],
      "source": [
        "stars.skew()"
      ]
    },
    {
      "cell_type": "code",
      "execution_count": 30,
      "metadata": {
        "colab": {
          "base_uri": "https://localhost:8080/"
        },
        "id": "kM4B28NI8VKV",
        "outputId": "50541644-9730-4a2f-a9a0-8b4b785f2b75"
      },
      "outputs": [
        {
          "data": {
            "text/plain": [
              "0"
            ]
          },
          "execution_count": 30,
          "metadata": {},
          "output_type": "execute_result"
        }
      ],
      "source": [
        "stars.duplicated().sum()"
      ]
    },
    {
      "cell_type": "code",
      "execution_count": 31,
      "metadata": {
        "colab": {
          "base_uri": "https://localhost:8080/",
          "height": 294
        },
        "id": "atlCx4Xf9cHY",
        "outputId": "b99a157b-44b2-4467-ae2e-3ea3449dc97b"
      },
      "outputs": [
        {
          "data": {
            "text/plain": [
              "<AxesSubplot:>"
            ]
          },
          "execution_count": 31,
          "metadata": {},
          "output_type": "execute_result"
        },
        {
          "data": {
            "image/png": "[encoded data removed]",
            "text/plain": [
              "<Figure size 432x288 with 2 Axes>"
            ]
          },
          "metadata": {
            "needs_background": "light"
          },
          "output_type": "display_data"
        }
      ],
      "source": [
        "sns.heatmap(stars.corr(), \n",
        "            cmap = 'Blues')"
      ]
    },
    {
      "cell_type": "code",
      "execution_count": 32,
      "metadata": {
        "colab": {
          "base_uri": "https://localhost:8080/"
        },
        "id": "h5gCno3W9pYJ",
        "outputId": "77918743-50f2-476e-c00e-1fcc7d88bb54"
      },
      "outputs": [
        {
          "data": {
            "text/plain": [
              "Index(['Temperature', 'L', 'R', 'A_M', 'Color', 'Spectral_Class', 'Type'], dtype='object')"
            ]
          },
          "execution_count": 32,
          "metadata": {},
          "output_type": "execute_result"
        }
      ],
      "source": [
        "stars.columns"
      ]
    },
    {
      "cell_type": "code",
      "execution_count": 33,
      "metadata": {
        "colab": {
          "base_uri": "https://localhost:8080/"
        },
        "id": "rCjF17jy_kPZ",
        "outputId": "8db8c5c6-96e5-40f9-bad3-988ab7a8356e"
      },
      "outputs": [
        {
          "name": "stdout",
          "output_type": "stream",
          "text": [
            "\n",
            " Color  --->\n",
            " ['Red' 'Blue White' 'White' 'Yellowish White' 'Blue white'\n",
            " 'Pale yellow orange' 'Blue' 'Blue-white' 'Whitish' 'yellow-white'\n",
            " 'Orange' 'White-Yellow' 'white' 'yellowish' 'Yellowish' 'Orange-Red'\n",
            " 'Blue-White']\n",
            "\n",
            " Color  --->\n",
            " Red                   112\n",
            "Blue                   56\n",
            "Blue-white             26\n",
            "Blue White             10\n",
            "yellow-white            8\n",
            "White                   7\n",
            "Blue white              4\n",
            "white                   3\n",
            "Yellowish White         3\n",
            "yellowish               2\n",
            "Whitish                 2\n",
            "Orange                  2\n",
            "White-Yellow            1\n",
            "Pale yellow orange      1\n",
            "Yellowish               1\n",
            "Orange-Red              1\n",
            "Blue-White              1\n",
            "Name: Color, dtype: int64\n",
            "\n",
            " Spectral_Class  --->\n",
            " ['M' 'B' 'A' 'F' 'O' 'K' 'G']\n",
            "\n",
            " Spectral_Class  --->\n",
            " M    111\n",
            "B     46\n",
            "O     40\n",
            "A     19\n",
            "F     17\n",
            "K      6\n",
            "G      1\n",
            "Name: Spectral_Class, dtype: int64\n",
            "\n",
            " Type  --->\n",
            " [0 1 2 3 4 5]\n",
            "\n",
            " Type  --->\n",
            " 0    40\n",
            "1    40\n",
            "2    40\n",
            "3    40\n",
            "4    40\n",
            "5    40\n",
            "Name: Type, dtype: int64\n"
          ]
        }
      ],
      "source": [
        "for i in ['Color', 'Spectral_Class', 'Type']:\n",
        "  print(\"\\n\",i, \" --->\\n\", stars[i].unique())\n",
        "  print(\"\\n\",i, \" --->\\n\", stars[i].value_counts())"
      ]
    },
    {
      "cell_type": "code",
      "execution_count": 34,
      "metadata": {
        "colab": {
          "base_uri": "https://localhost:8080/"
        },
        "id": "RdFxss8X_oeK",
        "outputId": "7b075f43-f691-4e18-e2e4-7ad27501d58a"
      },
      "outputs": [
        {
          "name": "stdout",
          "output_type": "stream",
          "text": [
            "\n",
            " Color  --->\n",
            " ['Red' 'Blue-White' 'White' 'White-Yellow' 'Orange' 'Blue']\n",
            "\n",
            " Color  --->\n",
            " Red             113\n",
            "Blue             56\n",
            "Blue-White       41\n",
            "White-Yellow     15\n",
            "White            12\n",
            "Orange            3\n",
            "Name: Color, dtype: int64\n",
            "\n",
            " Spectral_Class  --->\n",
            " ['M' 'B' 'A' 'F' 'O' 'K' 'G']\n",
            "\n",
            " Spectral_Class  --->\n",
            " M    111\n",
            "B     46\n",
            "O     40\n",
            "A     19\n",
            "F     17\n",
            "K      6\n",
            "G      1\n",
            "Name: Spectral_Class, dtype: int64\n",
            "\n",
            " Type  --->\n",
            " [0 1 2 3 4 5]\n",
            "\n",
            " Type  --->\n",
            " 0    40\n",
            "1    40\n",
            "2    40\n",
            "3    40\n",
            "4    40\n",
            "5    40\n",
            "Name: Type, dtype: int64\n"
          ]
        }
      ],
      "source": [
        "stars['Color'] = stars['Color'].replace('Orange-Red', 'Red')\n",
        "stars['Color'] = stars['Color'].replace('Pale yellow orange', 'Orange')\n",
        "stars['Color'] = stars['Color'].replace('Blue White', 'Blue-White')\n",
        "stars['Color'] = stars['Color'].replace('Blue white', 'Blue-White')\n",
        "stars['Color'] = stars['Color'].replace('Blue-white', 'Blue-White')\n",
        "stars['Color'] = stars['Color'].replace('Whitish', 'White')\n",
        "stars['Color'] = stars['Color'].replace('white', 'White')\n",
        "stars['Color'] = stars['Color'].replace('yellow-white', 'White-Yellow')\n",
        "stars['Color'] = stars['Color'].replace('Yellowish White', 'White-Yellow')\n",
        "stars['Color'] = stars['Color'].replace('yellowish', 'White-Yellow')\n",
        "stars['Color'] = stars['Color'].replace('Yellowish', 'White-Yellow')  \n",
        "\n",
        "for i in ['Color', 'Spectral_Class', 'Type']:\n",
        "  print(\"\\n\",i, \" --->\\n\", stars[i].unique())\n",
        "  print(\"\\n\",i, \" --->\\n\", stars[i].value_counts())"
      ]
    },
    {
      "cell_type": "code",
      "execution_count": 35,
      "metadata": {
        "colab": {
          "base_uri": "https://localhost:8080/",
          "height": 542
        },
        "id": "gocIMghqEBtX",
        "outputId": "58ecf6c5-6e97-4ee2-b3ff-30c28ec47721"
      },
      "outputs": [
        {
          "data": {
            "application/vnd.plotly.v1+json": {
              "config": {
                "plotlyServerURL": "https://plot.ly"
              },
              "data": [
                {
                  "alignmentgroup": "True",
                  "bingroup": "x",
                  "hovertemplate": "Color=Red<br>Temperature=%{x}<br>count=%{y}<extra></extra>",
                  "legendgroup": "Red",
                  "marker": {
                    "color": "#636efa",
                    "pattern": {
                      "shape": ""
                    }
                  },
                  "name": "Red",
                  "offsetgroup": "Red",
                  "orientation": "v",
                  "showlegend": true,
                  "type": "histogram",
                  "x": [
                    3068,
                    3042,
                    2600,
                    2800,
                    1939,
                    2840,
                    2637,
                    2600,
                    2650,
                    2700,
                    3600,
                    3129,
                    3134,
                    3628,
                    2650,
                    3340,
                    2799,
                    3692,
                    3192,
                    3441,
                    3826,
                    3365,
                    3270,
                    3200,
                    3008,
                    3600,
                    3575,
                    3574,
                    3625,
                    3490,
                    3750,
                    3834,
                    3650,
                    3450,
                    3660,
                    3450,
                    3752,
                    3535,
                    3341,
                    3432,
                    2983,
                    2835,
                    2935,
                    3295,
                    2945,
                    2817,
                    2774,
                    2871,
                    3345,
                    3607,
                    3304,
                    3150,
                    3550,
                    3180,
                    2890,
                    3342,
                    2621,
                    3158,
                    5112,
                    3459,
                    3605,
                    3615,
                    3399,
                    3610,
                    3553,
                    4015,
                    3625,
                    6850,
                    3780,
                    3323,
                    3531,
                    3218,
                    3146,
                    3511,
                    3225,
                    2935,
                    2861,
                    2856,
                    2731,
                    3095,
                    3607,
                    3100,
                    2989,
                    3542,
                    3243,
                    3091,
                    3598,
                    3324,
                    3541,
                    3570,
                    3500,
                    3600,
                    3614,
                    2831,
                    2914,
                    3419,
                    3218,
                    3453,
                    2889,
                    2968,
                    3484,
                    2778,
                    3523,
                    3462,
                    3257,
                    2994,
                    3212,
                    3523,
                    3598,
                    3142,
                    3496,
                    3324,
                    3463
                  ],
                  "xaxis": "x",
                  "yaxis": "y"
                },
                {
                  "alignmentgroup": "True",
                  "bingroup": "x",
                  "hovertemplate": "Color=Blue-White<br>Temperature=%{x}<br>count=%{y}<extra></extra>",
                  "legendgroup": "Blue-White",
                  "marker": {
                    "color": "#EF553B",
                    "pattern": {
                      "shape": ""
                    }
                  },
                  "name": "Blue-White",
                  "offsetgroup": "Blue-White",
                  "orientation": "v",
                  "showlegend": true,
                  "type": "histogram",
                  "x": [
                    25000,
                    16500,
                    8570,
                    30000,
                    15276,
                    17200,
                    14100,
                    9675,
                    12010,
                    10980,
                    9030,
                    11250,
                    12098,
                    13420,
                    14520,
                    11900,
                    8924,
                    12912,
                    12984,
                    29560,
                    8945,
                    14060,
                    16390,
                    25070,
                    28700,
                    26140,
                    20120,
                    13023,
                    11000,
                    12100,
                    24490,
                    22350,
                    10012,
                    13089,
                    22012,
                    9320,
                    19400,
                    17140,
                    24145,
                    27739,
                    21904
                  ],
                  "xaxis": "x",
                  "yaxis": "y"
                },
                {
                  "alignmentgroup": "True",
                  "bingroup": "x",
                  "hovertemplate": "Color=White<br>Temperature=%{x}<br>count=%{y}<extra></extra>",
                  "legendgroup": "White",
                  "marker": {
                    "color": "#00cc96",
                    "pattern": {
                      "shape": ""
                    }
                  },
                  "name": "White",
                  "offsetgroup": "White",
                  "orientation": "v",
                  "showlegend": true,
                  "type": "histogram",
                  "x": [
                    7740,
                    7220,
                    8500,
                    9700,
                    8052,
                    10574,
                    8930,
                    13720,
                    14732,
                    7723,
                    8829,
                    9235
                  ],
                  "xaxis": "x",
                  "yaxis": "y"
                },
                {
                  "alignmentgroup": "True",
                  "bingroup": "x",
                  "hovertemplate": "Color=White-Yellow<br>Temperature=%{x}<br>count=%{y}<extra></extra>",
                  "legendgroup": "White-Yellow",
                  "marker": {
                    "color": "#ab63fa",
                    "pattern": {
                      "shape": ""
                    }
                  },
                  "name": "White-Yellow",
                  "offsetgroup": "White-Yellow",
                  "orientation": "v",
                  "showlegend": true,
                  "type": "histogram",
                  "x": [
                    12990,
                    7700,
                    11790,
                    5800,
                    6757,
                    6380,
                    5936,
                    5587,
                    7100,
                    5300,
                    4526,
                    4077,
                    4980,
                    7720,
                    8250
                  ],
                  "xaxis": "x",
                  "yaxis": "y"
                },
                {
                  "alignmentgroup": "True",
                  "bingroup": "x",
                  "hovertemplate": "Color=Orange<br>Temperature=%{x}<br>count=%{y}<extra></extra>",
                  "legendgroup": "Orange",
                  "marker": {
                    "color": "#FFA15A",
                    "pattern": {
                      "shape": ""
                    }
                  },
                  "name": "Orange",
                  "offsetgroup": "Orange",
                  "orientation": "v",
                  "showlegend": true,
                  "type": "histogram",
                  "x": [
                    7230,
                    3749,
                    4287
                  ],
                  "xaxis": "x",
                  "yaxis": "y"
                },
                {
                  "alignmentgroup": "True",
                  "bingroup": "x",
                  "hovertemplate": "Color=Blue<br>Temperature=%{x}<br>count=%{y}<extra></extra>",
                  "legendgroup": "Blue",
                  "marker": {
                    "color": "#19d3f3",
                    "pattern": {
                      "shape": ""
                    }
                  },
                  "name": "Blue",
                  "offsetgroup": "Blue",
                  "orientation": "v",
                  "showlegend": true,
                  "type": "histogram",
                  "x": [
                    39000,
                    33750,
                    19860,
                    36108,
                    33300,
                    40000,
                    23000,
                    17120,
                    11096,
                    14245,
                    24630,
                    12893,
                    24345,
                    33421,
                    21020,
                    18290,
                    37800,
                    25390,
                    11567,
                    12675,
                    5752,
                    8927,
                    7282,
                    19923,
                    26373,
                    17383,
                    9373,
                    26000,
                    18000,
                    16790,
                    15680,
                    14982,
                    13340,
                    18340,
                    19920,
                    24020,
                    23092,
                    17920,
                    19360,
                    34190,
                    32460,
                    23678,
                    12749,
                    9383,
                    23440,
                    16787,
                    18734,
                    9892,
                    10930,
                    23095,
                    21738,
                    38234,
                    32489,
                    38940,
                    30839,
                    37882
                  ],
                  "xaxis": "x",
                  "yaxis": "y"
                }
              ],
              "layout": {
                "barmode": "relative",
                "legend": {
                  "title": {
                    "text": "Color"
                  },
                  "tracegroupgap": 0
                },
                "shapes": [
                  {
                    "line": {
                      "color": "black",
                      "dash": "dash",
                      "width": 2
                    },
                    "type": "line",
                    "x0": 10497.4625,
                    "x1": 10497.4625,
                    "xref": "x",
                    "y0": 0,
                    "y1": 1,
                    "yref": "y domain"
                  }
                ],
                "template": {
                  "data": {
                    "bar": [
                      {
                        "error_x": {
                          "color": "#2a3f5f"
                        },
                        "error_y": {
                          "color": "#2a3f5f"
                        },
                        "marker": {
                          "line": {
                            "color": "#E5ECF6",
                            "width": 0.5
                          },
                          "pattern": {
                            "fillmode": "overlay",
                            "size": 10,
                            "solidity": 0.2
                          }
                        },
                        "type": "bar"
                      }
                    ],
                    "barpolar": [
                      {
                        "marker": {
                          "line": {
                            "color": "#E5ECF6",
                            "width": 0.5
                          },
                          "pattern": {
                            "fillmode": "overlay",
                            "size": 10,
                            "solidity": 0.2
                          }
                        },
                        "type": "barpolar"
                      }
                    ],
                    "carpet": [
                      {
                        "aaxis": {
                          "endlinecolor": "#2a3f5f",
                          "gridcolor": "white",
                          "linecolor": "white",
                          "minorgridcolor": "white",
                          "startlinecolor": "#2a3f5f"
                        },
                        "baxis": {
                          "endlinecolor": "#2a3f5f",
                          "gridcolor": "white",
                          "linecolor": "white",
                          "minorgridcolor": "white",
                          "startlinecolor": "#2a3f5f"
                        },
                        "type": "carpet"
                      }
                    ],
                    "choropleth": [
                      {
                        "colorbar": {
                          "outlinewidth": 0,
                          "ticks": ""
                        },
                        "type": "choropleth"
                      }
                    ],
                    "contour": [
                      {
                        "colorbar": {
                          "outlinewidth": 0,
                          "ticks": ""
                        },
                        "colorscale": [
                          [
                            0,
                            "#0d0887"
                          ],
                          [
                            0.1111111111111111,
                            "#46039f"
                          ],
                          [
                            0.2222222222222222,
                            "#7201a8"
                          ],
                          [
                            0.3333333333333333,
                            "#9c179e"
                          ],
                          [
                            0.4444444444444444,
                            "#bd3786"
                          ],
                          [
                            0.5555555555555556,
                            "#d8576b"
                          ],
                          [
                            0.6666666666666666,
                            "#ed7953"
                          ],
                          [
                            0.7777777777777778,
                            "#fb9f3a"
                          ],
                          [
                            0.8888888888888888,
                            "#fdca26"
                          ],
                          [
                            1,
                            "#f0f921"
                          ]
                        ],
                        "type": "contour"
                      }
                    ],
                    "contourcarpet": [
                      {
                        "colorbar": {
                          "outlinewidth": 0,
                          "ticks": ""
                        },
                        "type": "contourcarpet"
                      }
                    ],
                    "heatmap": [
                      {
                        "colorbar": {
                          "outlinewidth": 0,
                          "ticks": ""
                        },
                        "colorscale": [
                          [
                            0,
                            "#0d0887"
                          ],
                          [
                            0.1111111111111111,
                            "#46039f"
                          ],
                          [
                            0.2222222222222222,
                            "#7201a8"
                          ],
                          [
                            0.3333333333333333,
                            "#9c179e"
                          ],
                          [
                            0.4444444444444444,
                            "#bd3786"
                          ],
                          [
                            0.5555555555555556,
                            "#d8576b"
                          ],
                          [
                            0.6666666666666666,
                            "#ed7953"
                          ],
                          [
                            0.7777777777777778,
                            "#fb9f3a"
                          ],
                          [
                            0.8888888888888888,
                            "#fdca26"
                          ],
                          [
                            1,
                            "#f0f921"
                          ]
                        ],
                        "type": "heatmap"
                      }
                    ],
                    "heatmapgl": [
                      {
                        "colorbar": {
                          "outlinewidth": 0,
                          "ticks": ""
                        },
                        "colorscale": [
                          [
                            0,
                            "#0d0887"
                          ],
                          [
                            0.1111111111111111,
                            "#46039f"
                          ],
                          [
                            0.2222222222222222,
                            "#7201a8"
                          ],
                          [
                            0.3333333333333333,
                            "#9c179e"
                          ],
                          [
                            0.4444444444444444,
                            "#bd3786"
                          ],
                          [
                            0.5555555555555556,
                            "#d8576b"
                          ],
                          [
                            0.6666666666666666,
                            "#ed7953"
                          ],
                          [
                            0.7777777777777778,
                            "#fb9f3a"
                          ],
                          [
                            0.8888888888888888,
                            "#fdca26"
                          ],
                          [
                            1,
                            "#f0f921"
                          ]
                        ],
                        "type": "heatmapgl"
                      }
                    ],
                    "histogram": [
                      {
                        "marker": {
                          "pattern": {
                            "fillmode": "overlay",
                            "size": 10,
                            "solidity": 0.2
                          }
                        },
                        "type": "histogram"
                      }
                    ],
                    "histogram2d": [
                      {
                        "colorbar": {
                          "outlinewidth": 0,
                          "ticks": ""
                        },
                        "colorscale": [
                          [
                            0,
                            "#0d0887"
                          ],
                          [
                            0.1111111111111111,
                            "#46039f"
                          ],
                          [
                            0.2222222222222222,
                            "#7201a8"
                          ],
                          [
                            0.3333333333333333,
                            "#9c179e"
                          ],
                          [
                            0.4444444444444444,
                            "#bd3786"
                          ],
                          [
                            0.5555555555555556,
                            "#d8576b"
                          ],
                          [
                            0.6666666666666666,
                            "#ed7953"
                          ],
                          [
                            0.7777777777777778,
                            "#fb9f3a"
                          ],
                          [
                            0.8888888888888888,
                            "#fdca26"
                          ],
                          [
                            1,
                            "#f0f921"
                          ]
                        ],
                        "type": "histogram2d"
                      }
                    ],
                    "histogram2dcontour": [
                      {
                        "colorbar": {
                          "outlinewidth": 0,
                          "ticks": ""
                        },
                        "colorscale": [
                          [
                            0,
                            "#0d0887"
                          ],
                          [
                            0.1111111111111111,
                            "#46039f"
                          ],
                          [
                            0.2222222222222222,
                            "#7201a8"
                          ],
                          [
                            0.3333333333333333,
                            "#9c179e"
                          ],
                          [
                            0.4444444444444444,
                            "#bd3786"
                          ],
                          [
                            0.5555555555555556,
                            "#d8576b"
                          ],
                          [
                            0.6666666666666666,
                            "#ed7953"
                          ],
                          [
                            0.7777777777777778,
                            "#fb9f3a"
                          ],
                          [
                            0.8888888888888888,
                            "#fdca26"
                          ],
                          [
                            1,
                            "#f0f921"
                          ]
                        ],
                        "type": "histogram2dcontour"
                      }
                    ],
                    "mesh3d": [
                      {
                        "colorbar": {
                          "outlinewidth": 0,
                          "ticks": ""
                        },
                        "type": "mesh3d"
                      }
                    ],
                    "parcoords": [
                      {
                        "line": {
                          "colorbar": {
                            "outlinewidth": 0,
                            "ticks": ""
                          }
                        },
                        "type": "parcoords"
                      }
                    ],
                    "pie": [
                      {
                        "automargin": true,
                        "type": "pie"
                      }
                    ],
                    "scatter": [
                      {
                        "marker": {
                          "colorbar": {
                            "outlinewidth": 0,
                            "ticks": ""
                          }
                        },
                        "type": "scatter"
                      }
                    ],
                    "scatter3d": [
                      {
                        "line": {
                          "colorbar": {
                            "outlinewidth": 0,
                            "ticks": ""
                          }
                        },
                        "marker": {
                          "colorbar": {
                            "outlinewidth": 0,
                            "ticks": ""
                          }
                        },
                        "type": "scatter3d"
                      }
                    ],
                    "scattercarpet": [
                      {
                        "marker": {
                          "colorbar": {
                            "outlinewidth": 0,
                            "ticks": ""
                          }
                        },
                        "type": "scattercarpet"
                      }
                    ],
                    "scattergeo": [
                      {
                        "marker": {
                          "colorbar": {
                            "outlinewidth": 0,
                            "ticks": ""
                          }
                        },
                        "type": "scattergeo"
                      }
                    ],
                    "scattergl": [
                      {
                        "marker": {
                          "colorbar": {
                            "outlinewidth": 0,
                            "ticks": ""
                          }
                        },
                        "type": "scattergl"
                      }
                    ],
                    "scattermapbox": [
                      {
                        "marker": {
                          "colorbar": {
                            "outlinewidth": 0,
                            "ticks": ""
                          }
                        },
                        "type": "scattermapbox"
                      }
                    ],
                    "scatterpolar": [
                      {
                        "marker": {
                          "colorbar": {
                            "outlinewidth": 0,
                            "ticks": ""
                          }
                        },
                        "type": "scatterpolar"
                      }
                    ],
                    "scatterpolargl": [
                      {
                        "marker": {
                          "colorbar": {
                            "outlinewidth": 0,
                            "ticks": ""
                          }
                        },
                        "type": "scatterpolargl"
                      }
                    ],
                    "scatterternary": [
                      {
                        "marker": {
                          "colorbar": {
                            "outlinewidth": 0,
                            "ticks": ""
                          }
                        },
                        "type": "scatterternary"
                      }
                    ],
                    "surface": [
                      {
                        "colorbar": {
                          "outlinewidth": 0,
                          "ticks": ""
                        },
                        "colorscale": [
                          [
                            0,
                            "#0d0887"
                          ],
                          [
                            0.1111111111111111,
                            "#46039f"
                          ],
                          [
                            0.2222222222222222,
                            "#7201a8"
                          ],
                          [
                            0.3333333333333333,
                            "#9c179e"
                          ],
                          [
                            0.4444444444444444,
                            "#bd3786"
                          ],
                          [
                            0.5555555555555556,
                            "#d8576b"
                          ],
                          [
                            0.6666666666666666,
                            "#ed7953"
                          ],
                          [
                            0.7777777777777778,
                            "#fb9f3a"
                          ],
                          [
                            0.8888888888888888,
                            "#fdca26"
                          ],
                          [
                            1,
                            "#f0f921"
                          ]
                        ],
                        "type": "surface"
                      }
                    ],
                    "table": [
                      {
                        "cells": {
                          "fill": {
                            "color": "#EBF0F8"
                          },
                          "line": {
                            "color": "white"
                          }
                        },
                        "header": {
                          "fill": {
                            "color": "#C8D4E3"
                          },
                          "line": {
                            "color": "white"
                          }
                        },
                        "type": "table"
                      }
                    ]
                  },
                  "layout": {
                    "annotationdefaults": {
                      "arrowcolor": "#2a3f5f",
                      "arrowhead": 0,
                      "arrowwidth": 1
                    },
                    "autotypenumbers": "strict",
                    "coloraxis": {
                      "colorbar": {
                        "outlinewidth": 0,
                        "ticks": ""
                      }
                    },
                    "colorscale": {
                      "diverging": [
                        [
                          0,
                          "#8e0152"
                        ],
                        [
                          0.1,
                          "#c51b7d"
                        ],
                        [
                          0.2,
                          "#de77ae"
                        ],
                        [
                          0.3,
                          "#f1b6da"
                        ],
                        [
                          0.4,
                          "#fde0ef"
                        ],
                        [
                          0.5,
                          "#f7f7f7"
                        ],
                        [
                          0.6,
                          "#e6f5d0"
                        ],
                        [
                          0.7,
                          "#b8e186"
                        ],
                        [
                          0.8,
                          "#7fbc41"
                        ],
                        [
                          0.9,
                          "#4d9221"
                        ],
                        [
                          1,
                          "#276419"
                        ]
                      ],
                      "sequential": [
                        [
                          0,
                          "#0d0887"
                        ],
                        [
                          0.1111111111111111,
                          "#46039f"
                        ],
                        [
                          0.2222222222222222,
                          "#7201a8"
                        ],
                        [
                          0.3333333333333333,
                          "#9c179e"
                        ],
                        [
                          0.4444444444444444,
                          "#bd3786"
                        ],
                        [
                          0.5555555555555556,
                          "#d8576b"
                        ],
                        [
                          0.6666666666666666,
                          "#ed7953"
                        ],
                        [
                          0.7777777777777778,
                          "#fb9f3a"
                        ],
                        [
                          0.8888888888888888,
                          "#fdca26"
                        ],
                        [
                          1,
                          "#f0f921"
                        ]
                      ],
                      "sequentialminus": [
                        [
                          0,
                          "#0d0887"
                        ],
                        [
                          0.1111111111111111,
                          "#46039f"
                        ],
                        [
                          0.2222222222222222,
                          "#7201a8"
                        ],
                        [
                          0.3333333333333333,
                          "#9c179e"
                        ],
                        [
                          0.4444444444444444,
                          "#bd3786"
                        ],
                        [
                          0.5555555555555556,
                          "#d8576b"
                        ],
                        [
                          0.6666666666666666,
                          "#ed7953"
                        ],
                        [
                          0.7777777777777778,
                          "#fb9f3a"
                        ],
                        [
                          0.8888888888888888,
                          "#fdca26"
                        ],
                        [
                          1,
                          "#f0f921"
                        ]
                      ]
                    },
                    "colorway": [
                      "#636efa",
                      "#EF553B",
                      "#00cc96",
                      "#ab63fa",
                      "#FFA15A",
                      "#19d3f3",
                      "#FF6692",
                      "#B6E880",
                      "#FF97FF",
                      "#FECB52"
                    ],
                    "font": {
                      "color": "#2a3f5f"
                    },
                    "geo": {
                      "bgcolor": "white",
                      "lakecolor": "white",
                      "landcolor": "#E5ECF6",
                      "showlakes": true,
                      "showland": true,
                      "subunitcolor": "white"
                    },
                    "hoverlabel": {
                      "align": "left"
                    },
                    "hovermode": "closest",
                    "mapbox": {
                      "style": "light"
                    },
                    "paper_bgcolor": "white",
                    "plot_bgcolor": "#E5ECF6",
                    "polar": {
                      "angularaxis": {
                        "gridcolor": "white",
                        "linecolor": "white",
                        "ticks": ""
                      },
                      "bgcolor": "#E5ECF6",
                      "radialaxis": {
                        "gridcolor": "white",
                        "linecolor": "white",
                        "ticks": ""
                      }
                    },
                    "scene": {
                      "xaxis": {
                        "backgroundcolor": "#E5ECF6",
                        "gridcolor": "white",
                        "gridwidth": 2,
                        "linecolor": "white",
                        "showbackground": true,
                        "ticks": "",
                        "zerolinecolor": "white"
                      },
                      "yaxis": {
                        "backgroundcolor": "#E5ECF6",
                        "gridcolor": "white",
                        "gridwidth": 2,
                        "linecolor": "white",
                        "showbackground": true,
                        "ticks": "",
                        "zerolinecolor": "white"
                      },
                      "zaxis": {
                        "backgroundcolor": "#E5ECF6",
                        "gridcolor": "white",
                        "gridwidth": 2,
                        "linecolor": "white",
                        "showbackground": true,
                        "ticks": "",
                        "zerolinecolor": "white"
                      }
                    },
                    "shapedefaults": {
                      "line": {
                        "color": "#2a3f5f"
                      }
                    },
                    "ternary": {
                      "aaxis": {
                        "gridcolor": "white",
                        "linecolor": "white",
                        "ticks": ""
                      },
                      "baxis": {
                        "gridcolor": "white",
                        "linecolor": "white",
                        "ticks": ""
                      },
                      "bgcolor": "#E5ECF6",
                      "caxis": {
                        "gridcolor": "white",
                        "linecolor": "white",
                        "ticks": ""
                      }
                    },
                    "title": {
                      "x": 0.05
                    },
                    "xaxis": {
                      "automargin": true,
                      "gridcolor": "white",
                      "linecolor": "white",
                      "ticks": "",
                      "title": {
                        "standoff": 15
                      },
                      "zerolinecolor": "white",
                      "zerolinewidth": 2
                    },
                    "yaxis": {
                      "automargin": true,
                      "gridcolor": "white",
                      "linecolor": "white",
                      "ticks": "",
                      "title": {
                        "standoff": 15
                      },
                      "zerolinecolor": "white",
                      "zerolinewidth": 2
                    }
                  }
                },
                "title": {
                  "text": "<b>Average Temparature by color</b>"
                },
                "xaxis": {
                  "anchor": "y",
                  "domain": [
                    0,
                    1
                  ],
                  "title": {
                    "text": "Temperature"
                  }
                },
                "yaxis": {
                  "anchor": "x",
                  "domain": [
                    0,
                    1
                  ],
                  "title": {
                    "text": "count"
                  }
                }
              }
            }
          },
          "metadata": {},
          "output_type": "display_data"
        }
      ],
      "source": [
        "fig = px.histogram(stars, 'Temperature',             \n",
        "                   color='Color',\n",
        "                   title=\"<b>Average Temparature by color</b>\")\n",
        "\n",
        "fig.add_vline(x=stars['Temperature'].mean(), line_width=2, line_dash=\"dash\", line_color=\"black\")\n",
        "\n",
        "fig.show()"
      ]
    },
    {
      "cell_type": "code",
      "execution_count": 36,
      "metadata": {
        "colab": {
          "base_uri": "https://localhost:8080/",
          "height": 294
        },
        "id": "IXux5gfuVMns",
        "outputId": "0d00cab4-9eed-4c9d-b42d-c78a2af10e8f"
      },
      "outputs": [
        {
          "data": {
            "text/plain": [
              "<AxesSubplot:xlabel='Type'>"
            ]
          },
          "execution_count": 36,
          "metadata": {},
          "output_type": "execute_result"
        },
        {
          "data": {
            "image/png": "[encoded data removed]",
            "text/plain": [
              "<Figure size 432x288 with 1 Axes>"
            ]
          },
          "metadata": {
            "needs_background": "light"
          },
          "output_type": "display_data"
        }
      ],
      "source": [
        "#balanced data\n",
        "stars.groupby('Type').count().plot(kind = 'bar')"
      ]
    },
    {
      "cell_type": "code",
      "execution_count": 37,
      "metadata": {
        "colab": {
          "base_uri": "https://localhost:8080/",
          "height": 354
        },
        "id": "f4E5yKSSGS_K",
        "outputId": "abb7bad6-3fd2-47db-96e2-264136cee653"
      },
      "outputs": [
        {
          "data": {
            "text/plain": [
              "Text(0, 0.5, 'Frequency')"
            ]
          },
          "execution_count": 37,
          "metadata": {},
          "output_type": "execute_result"
        },
        {
          "data": {
            "image/png": "[encoded data removed]",
            "text/plain": [
              "<Figure size 432x288 with 1 Axes>"
            ]
          },
          "metadata": {
            "needs_background": "light"
          },
          "output_type": "display_data"
        }
      ],
      "source": [
        "#plotting colors by frequencies\n",
        "color = ['Red', 'SteelBlue', 'lightskyblue', 'lightyellow', 'White', 'Orange']\n",
        "stars['Color'].value_counts().plot(kind = 'bar', color = color, edgecolor = 'slategray')\n",
        "plt.xticks(rotation = 45)\n",
        "plt.title('Red colored stars are highest in number')\n",
        "plt.xlabel('Color')\n",
        "plt.ylabel('Frequency')"
      ]
    },
    {
      "cell_type": "code",
      "execution_count": 38,
      "metadata": {
        "colab": {
          "base_uri": "https://localhost:8080/",
          "height": 313
        },
        "id": "nH8ednWlIFig",
        "outputId": "8b22617d-716f-470a-e955-e5a0ad64db46"
      },
      "outputs": [
        {
          "data": {
            "text/plain": [
              "(array([0, 1, 2, 3, 4, 5, 6]),\n",
              " [Text(0, 0, 'M'),\n",
              "  Text(1, 0, 'B'),\n",
              "  Text(2, 0, 'O'),\n",
              "  Text(3, 0, 'A'),\n",
              "  Text(4, 0, 'F'),\n",
              "  Text(5, 0, 'K'),\n",
              "  Text(6, 0, 'G')])"
            ]
          },
          "execution_count": 38,
          "metadata": {},
          "output_type": "execute_result"
        },
        {
          "data": {
            "image/png": "[encoded data removed]",
            "text/plain": [
              "<Figure size 432x288 with 1 Axes>"
            ]
          },
          "metadata": {
            "needs_background": "light"
          },
          "output_type": "display_data"
        }
      ],
      "source": [
        "stars['Spectral_Class'].value_counts().plot(kind = 'bar', color = 'hotpink', edgecolor = 'mediumorchid')\n",
        "plt.title('Most of the stars have Classs M')\n",
        "plt.xlabel('Spectral Class')\n",
        "plt.ylabel('Frequency')\n",
        "plt.xticks(rotation = 0)"
      ]
    },
    {
      "cell_type": "code",
      "execution_count": 39,
      "metadata": {
        "colab": {
          "base_uri": "https://localhost:8080/",
          "height": 542
        },
        "id": "376K9mS5I-3A",
        "outputId": "b9b69cea-1196-407c-a2b3-3364b334d5c9"
      },
      "outputs": [
        {
          "data": {
            "application/vnd.plotly.v1+json": {
              "config": {
                "plotlyServerURL": "https://plot.ly"
              },
              "data": [
                {
                  "alignmentgroup": "True",
                  "bingroup": "x",
                  "hovertemplate": "Color=Red<br>L=%{x}<br>count=%{y}<extra></extra>",
                  "legendgroup": "Red",
                  "marker": {
                    "color": "#636efa",
                    "pattern": {
                      "shape": ""
                    }
                  },
                  "name": "Red",
                  "offsetgroup": "Red",
                  "orientation": "v",
                  "showlegend": true,
                  "type": "histogram",
                  "x": [
                    0.0024,
                    0.0005,
                    0.0003,
                    0.0002,
                    0.000138,
                    0.00065,
                    0.00073,
                    0.0004,
                    0.00069,
                    0.00018,
                    0.0029,
                    0.0122,
                    0.0004,
                    0.0055,
                    0.0006,
                    0.0038,
                    0.0018,
                    0.00367,
                    0.00362,
                    0.039,
                    200000,
                    340000,
                    150000,
                    195000,
                    280000,
                    320000,
                    123000,
                    200000,
                    184000,
                    270000,
                    283000,
                    272000,
                    310000,
                    263000,
                    363000,
                    174000,
                    209000,
                    195000,
                    0.0056,
                    0.00067,
                    0.00024,
                    0.00034,
                    0.00014,
                    0.00098,
                    0.00032,
                    0.00098,
                    0.00036,
                    0.00072,
                    0.021,
                    0.022,
                    0.0085,
                    0.0088,
                    0.004,
                    0.001,
                    0.0034,
                    0.0015,
                    0.0006,
                    0.00135,
                    0.63,
                    100000,
                    126000,
                    200000,
                    117000,
                    132000,
                    145000,
                    282000,
                    74000,
                    229000,
                    200000,
                    0.00043,
                    0.00093,
                    0.00054,
                    0.00015,
                    0.00064,
                    0.00076,
                    0.00087,
                    0.00019,
                    0.000896,
                    0.000437,
                    0.00019,
                    0.00023,
                    0.008,
                    0.0087,
                    0.0009,
                    0.0023,
                    0.0081,
                    0.0011,
                    0.0034,
                    0.0013,
                    320000,
                    138000,
                    240000,
                    145000,
                    0.000231,
                    0.000631,
                    0.000245,
                    0.000452,
                    0.000621,
                    0.000352,
                    0.000461,
                    0.000551,
                    0.000849,
                    0.000957,
                    0.0053,
                    0.0024,
                    0.0072,
                    0.0016,
                    0.0054,
                    0.0027,
                    0.00132,
                    0.00125,
                    0.0065,
                    0.0027
                  ],
                  "xaxis": "x",
                  "yaxis": "y"
                },
                {
                  "alignmentgroup": "True",
                  "bingroup": "x",
                  "hovertemplate": "Color=Blue-White<br>L=%{x}<br>count=%{y}<extra></extra>",
                  "legendgroup": "Blue-White",
                  "marker": {
                    "color": "#EF553B",
                    "pattern": {
                      "shape": ""
                    }
                  },
                  "name": "Blue-White",
                  "offsetgroup": "Blue-White",
                  "orientation": "v",
                  "showlegend": true,
                  "type": "histogram",
                  "x": [
                    0.056,
                    0.013,
                    0.00081,
                    28840,
                    1136,
                    0.00098,
                    0.00067,
                    0.00045,
                    0.00078,
                    0.00074,
                    45,
                    672,
                    689,
                    0.00059,
                    0.00082,
                    0.00067,
                    0.00028,
                    0.00071,
                    0.00088,
                    188000,
                    38,
                    1092,
                    1278,
                    14500,
                    16790,
                    14520,
                    4720,
                    998,
                    170000,
                    120000,
                    248490,
                    12450,
                    552,
                    788,
                    6748,
                    29,
                    10920,
                    883,
                    382993,
                    849420,
                    748490
                  ],
                  "xaxis": "x",
                  "yaxis": "y"
                },
                {
                  "alignmentgroup": "True",
                  "bingroup": "x",
                  "hovertemplate": "Color=White<br>L=%{x}<br>count=%{y}<extra></extra>",
                  "legendgroup": "White",
                  "marker": {
                    "color": "#00cc96",
                    "pattern": {
                      "shape": ""
                    }
                  },
                  "name": "White",
                  "offsetgroup": "White",
                  "orientation": "v",
                  "showlegend": true,
                  "type": "histogram",
                  "x": [
                    0.00049,
                    0.00017,
                    0.0005,
                    74,
                    8.7,
                    0.00014,
                    0.00056,
                    0.00018,
                    0.00011,
                    0.00014,
                    537493,
                    404940
                  ],
                  "xaxis": "x",
                  "yaxis": "y"
                },
                {
                  "alignmentgroup": "True",
                  "bingroup": "x",
                  "hovertemplate": "Color=White-Yellow<br>L=%{x}<br>count=%{y}<extra></extra>",
                  "legendgroup": "White-Yellow",
                  "marker": {
                    "color": "#ab63fa",
                    "pattern": {
                      "shape": ""
                    }
                  },
                  "name": "White-Yellow",
                  "offsetgroup": "White-Yellow",
                  "orientation": "v",
                  "showlegend": true,
                  "type": "histogram",
                  "x": [
                    0.000085,
                    0.00011,
                    0.00015,
                    0.81,
                    1.43,
                    1.35,
                    1.357,
                    0.819,
                    0.00029,
                    0.59,
                    0.153,
                    0.085,
                    0.357,
                    7.92,
                    9.25
                  ],
                  "xaxis": "x",
                  "yaxis": "y"
                },
                {
                  "alignmentgroup": "True",
                  "bingroup": "x",
                  "hovertemplate": "Color=Orange<br>L=%{x}<br>count=%{y}<extra></extra>",
                  "legendgroup": "Orange",
                  "marker": {
                    "color": "#FFA15A",
                    "pattern": {
                      "shape": ""
                    }
                  },
                  "name": "Orange",
                  "offsetgroup": "Orange",
                  "orientation": "v",
                  "showlegend": true,
                  "type": "histogram",
                  "x": [
                    0.00008,
                    550000,
                    630000
                  ],
                  "xaxis": "x",
                  "yaxis": "y"
                },
                {
                  "alignmentgroup": "True",
                  "bingroup": "x",
                  "hovertemplate": "Color=Blue<br>L=%{x}<br>count=%{y}<extra></extra>",
                  "legendgroup": "Blue",
                  "marker": {
                    "color": "#19d3f3",
                    "pattern": {
                      "shape": ""
                    }
                  },
                  "name": "Blue",
                  "offsetgroup": "Blue",
                  "orientation": "v",
                  "showlegend": true,
                  "type": "histogram",
                  "x": [
                    204000,
                    220000,
                    0.0011,
                    198000,
                    240000,
                    813000,
                    127000,
                    235000,
                    112000,
                    231000,
                    363000,
                    184000,
                    142000,
                    352000,
                    0.0015,
                    0.0013,
                    202900,
                    223000,
                    251000,
                    452000,
                    245000,
                    239000,
                    131000,
                    152000,
                    198000,
                    342900,
                    424520,
                    316000,
                    200000,
                    0.0014,
                    0.00122,
                    0.00118,
                    0.00109,
                    0.00134,
                    0.00156,
                    0.00159,
                    0.00132,
                    0.00111,
                    0.00125,
                    198200,
                    173800,
                    244290,
                    332520,
                    342940,
                    537430,
                    246730,
                    224780,
                    593900,
                    783930,
                    347820,
                    748890,
                    272830,
                    648430,
                    374830,
                    834042,
                    294903
                  ],
                  "xaxis": "x",
                  "yaxis": "y"
                }
              ],
              "layout": {
                "barmode": "relative",
                "legend": {
                  "title": {
                    "text": "Color"
                  },
                  "tracegroupgap": 0
                },
                "shapes": [
                  {
                    "line": {
                      "color": "black",
                      "dash": "dash",
                      "width": 2
                    },
                    "type": "line",
                    "x0": 107188.36163460833,
                    "x1": 107188.36163460833,
                    "xref": "x",
                    "y0": 0,
                    "y1": 1,
                    "yref": "y domain"
                  }
                ],
                "template": {
                  "data": {
                    "bar": [
                      {
                        "error_x": {
                          "color": "#2a3f5f"
                        },
                        "error_y": {
                          "color": "#2a3f5f"
                        },
                        "marker": {
                          "line": {
                            "color": "#E5ECF6",
                            "width": 0.5
                          },
                          "pattern": {
                            "fillmode": "overlay",
                            "size": 10,
                            "solidity": 0.2
                          }
                        },
                        "type": "bar"
                      }
                    ],
                    "barpolar": [
                      {
                        "marker": {
                          "line": {
                            "color": "#E5ECF6",
                            "width": 0.5
                          },
                          "pattern": {
                            "fillmode": "overlay",
                            "size": 10,
                            "solidity": 0.2
                          }
                        },
                        "type": "barpolar"
                      }
                    ],
                    "carpet": [
                      {
                        "aaxis": {
                          "endlinecolor": "#2a3f5f",
                          "gridcolor": "white",
                          "linecolor": "white",
                          "minorgridcolor": "white",
                          "startlinecolor": "#2a3f5f"
                        },
                        "baxis": {
                          "endlinecolor": "#2a3f5f",
                          "gridcolor": "white",
                          "linecolor": "white",
                          "minorgridcolor": "white",
                          "startlinecolor": "#2a3f5f"
                        },
                        "type": "carpet"
                      }
                    ],
                    "choropleth": [
                      {
                        "colorbar": {
                          "outlinewidth": 0,
                          "ticks": ""
                        },
                        "type": "choropleth"
                      }
                    ],
                    "contour": [
                      {
                        "colorbar": {
                          "outlinewidth": 0,
                          "ticks": ""
                        },
                        "colorscale": [
                          [
                            0,
                            "#0d0887"
                          ],
                          [
                            0.1111111111111111,
                            "#46039f"
                          ],
                          [
                            0.2222222222222222,
                            "#7201a8"
                          ],
                          [
                            0.3333333333333333,
                            "#9c179e"
                          ],
                          [
                            0.4444444444444444,
                            "#bd3786"
                          ],
                          [
                            0.5555555555555556,
                            "#d8576b"
                          ],
                          [
                            0.6666666666666666,
                            "#ed7953"
                          ],
                          [
                            0.7777777777777778,
                            "#fb9f3a"
                          ],
                          [
                            0.8888888888888888,
                            "#fdca26"
                          ],
                          [
                            1,
                            "#f0f921"
                          ]
                        ],
                        "type": "contour"
                      }
                    ],
                    "contourcarpet": [
                      {
                        "colorbar": {
                          "outlinewidth": 0,
                          "ticks": ""
                        },
                        "type": "contourcarpet"
                      }
                    ],
                    "heatmap": [
                      {
                        "colorbar": {
                          "outlinewidth": 0,
                          "ticks": ""
                        },
                        "colorscale": [
                          [
                            0,
                            "#0d0887"
                          ],
                          [
                            0.1111111111111111,
                            "#46039f"
                          ],
                          [
                            0.2222222222222222,
                            "#7201a8"
                          ],
                          [
                            0.3333333333333333,
                            "#9c179e"
                          ],
                          [
                            0.4444444444444444,
                            "#bd3786"
                          ],
                          [
                            0.5555555555555556,
                            "#d8576b"
                          ],
                          [
                            0.6666666666666666,
                            "#ed7953"
                          ],
                          [
                            0.7777777777777778,
                            "#fb9f3a"
                          ],
                          [
                            0.8888888888888888,
                            "#fdca26"
                          ],
                          [
                            1,
                            "#f0f921"
                          ]
                        ],
                        "type": "heatmap"
                      }
                    ],
                    "heatmapgl": [
                      {
                        "colorbar": {
                          "outlinewidth": 0,
                          "ticks": ""
                        },
                        "colorscale": [
                          [
                            0,
                            "#0d0887"
                          ],
                          [
                            0.1111111111111111,
                            "#46039f"
                          ],
                          [
                            0.2222222222222222,
                            "#7201a8"
                          ],
                          [
                            0.3333333333333333,
                            "#9c179e"
                          ],
                          [
                            0.4444444444444444,
                            "#bd3786"
                          ],
                          [
                            0.5555555555555556,
                            "#d8576b"
                          ],
                          [
                            0.6666666666666666,
                            "#ed7953"
                          ],
                          [
                            0.7777777777777778,
                            "#fb9f3a"
                          ],
                          [
                            0.8888888888888888,
                            "#fdca26"
                          ],
                          [
                            1,
                            "#f0f921"
                          ]
                        ],
                        "type": "heatmapgl"
                      }
                    ],
                    "histogram": [
                      {
                        "marker": {
                          "pattern": {
                            "fillmode": "overlay",
                            "size": 10,
                            "solidity": 0.2
                          }
                        },
                        "type": "histogram"
                      }
                    ],
                    "histogram2d": [
                      {
                        "colorbar": {
                          "outlinewidth": 0,
                          "ticks": ""
                        },
                        "colorscale": [
                          [
                            0,
                            "#0d0887"
                          ],
                          [
                            0.1111111111111111,
                            "#46039f"
                          ],
                          [
                            0.2222222222222222,
                            "#7201a8"
                          ],
                          [
                            0.3333333333333333,
                            "#9c179e"
                          ],
                          [
                            0.4444444444444444,
                            "#bd3786"
                          ],
                          [
                            0.5555555555555556,
                            "#d8576b"
                          ],
                          [
                            0.6666666666666666,
                            "#ed7953"
                          ],
                          [
                            0.7777777777777778,
                            "#fb9f3a"
                          ],
                          [
                            0.8888888888888888,
                            "#fdca26"
                          ],
                          [
                            1,
                            "#f0f921"
                          ]
                        ],
                        "type": "histogram2d"
                      }
                    ],
                    "histogram2dcontour": [
                      {
                        "colorbar": {
                          "outlinewidth": 0,
                          "ticks": ""
                        },
                        "colorscale": [
                          [
                            0,
                            "#0d0887"
                          ],
                          [
                            0.1111111111111111,
                            "#46039f"
                          ],
                          [
                            0.2222222222222222,
                            "#7201a8"
                          ],
                          [
                            0.3333333333333333,
                            "#9c179e"
                          ],
                          [
                            0.4444444444444444,
                            "#bd3786"
                          ],
                          [
                            0.5555555555555556,
                            "#d8576b"
                          ],
                          [
                            0.6666666666666666,
                            "#ed7953"
                          ],
                          [
                            0.7777777777777778,
                            "#fb9f3a"
                          ],
                          [
                            0.8888888888888888,
                            "#fdca26"
                          ],
                          [
                            1,
                            "#f0f921"
                          ]
                        ],
                        "type": "histogram2dcontour"
                      }
                    ],
                    "mesh3d": [
                      {
                        "colorbar": {
                          "outlinewidth": 0,
                          "ticks": ""
                        },
                        "type": "mesh3d"
                      }
                    ],
                    "parcoords": [
                      {
                        "line": {
                          "colorbar": {
                            "outlinewidth": 0,
                            "ticks": ""
                          }
                        },
                        "type": "parcoords"
                      }
                    ],
                    "pie": [
                      {
                        "automargin": true,
                        "type": "pie"
                      }
                    ],
                    "scatter": [
                      {
                        "marker": {
                          "colorbar": {
                            "outlinewidth": 0,
                            "ticks": ""
                          }
                        },
                        "type": "scatter"
                      }
                    ],
                    "scatter3d": [
                      {
                        "line": {
                          "colorbar": {
                            "outlinewidth": 0,
                            "ticks": ""
                          }
                        },
                        "marker": {
                          "colorbar": {
                            "outlinewidth": 0,
                            "ticks": ""
                          }
                        },
                        "type": "scatter3d"
                      }
                    ],
                    "scattercarpet": [
                      {
                        "marker": {
                          "colorbar": {
                            "outlinewidth": 0,
                            "ticks": ""
                          }
                        },
                        "type": "scattercarpet"
                      }
                    ],
                    "scattergeo": [
                      {
                        "marker": {
                          "colorbar": {
                            "outlinewidth": 0,
                            "ticks": ""
                          }
                        },
                        "type": "scattergeo"
                      }
                    ],
                    "scattergl": [
                      {
                        "marker": {
                          "colorbar": {
                            "outlinewidth": 0,
                            "ticks": ""
                          }
                        },
                        "type": "scattergl"
                      }
                    ],
                    "scattermapbox": [
                      {
                        "marker": {
                          "colorbar": {
                            "outlinewidth": 0,
                            "ticks": ""
                          }
                        },
                        "type": "scattermapbox"
                      }
                    ],
                    "scatterpolar": [
                      {
                        "marker": {
                          "colorbar": {
                            "outlinewidth": 0,
                            "ticks": ""
                          }
                        },
                        "type": "scatterpolar"
                      }
                    ],
                    "scatterpolargl": [
                      {
                        "marker": {
                          "colorbar": {
                            "outlinewidth": 0,
                            "ticks": ""
                          }
                        },
                        "type": "scatterpolargl"
                      }
                    ],
                    "scatterternary": [
                      {
                        "marker": {
                          "colorbar": {
                            "outlinewidth": 0,
                            "ticks": ""
                          }
                        },
                        "type": "scatterternary"
                      }
                    ],
                    "surface": [
                      {
                        "colorbar": {
                          "outlinewidth": 0,
                          "ticks": ""
                        },
                        "colorscale": [
                          [
                            0,
                            "#0d0887"
                          ],
                          [
                            0.1111111111111111,
                            "#46039f"
                          ],
                          [
                            0.2222222222222222,
                            "#7201a8"
                          ],
                          [
                            0.3333333333333333,
                            "#9c179e"
                          ],
                          [
                            0.4444444444444444,
                            "#bd3786"
                          ],
                          [
                            0.5555555555555556,
                            "#d8576b"
                          ],
                          [
                            0.6666666666666666,
                            "#ed7953"
                          ],
                          [
                            0.7777777777777778,
                            "#fb9f3a"
                          ],
                          [
                            0.8888888888888888,
                            "#fdca26"
                          ],
                          [
                            1,
                            "#f0f921"
                          ]
                        ],
                        "type": "surface"
                      }
                    ],
                    "table": [
                      {
                        "cells": {
                          "fill": {
                            "color": "#EBF0F8"
                          },
                          "line": {
                            "color": "white"
                          }
                        },
                        "header": {
                          "fill": {
                            "color": "#C8D4E3"
                          },
                          "line": {
                            "color": "white"
                          }
                        },
                        "type": "table"
                      }
                    ]
                  },
                  "layout": {
                    "annotationdefaults": {
                      "arrowcolor": "#2a3f5f",
                      "arrowhead": 0,
                      "arrowwidth": 1
                    },
                    "autotypenumbers": "strict",
                    "coloraxis": {
                      "colorbar": {
                        "outlinewidth": 0,
                        "ticks": ""
                      }
                    },
                    "colorscale": {
                      "diverging": [
                        [
                          0,
                          "#8e0152"
                        ],
                        [
                          0.1,
                          "#c51b7d"
                        ],
                        [
                          0.2,
                          "#de77ae"
                        ],
                        [
                          0.3,
                          "#f1b6da"
                        ],
                        [
                          0.4,
                          "#fde0ef"
                        ],
                        [
                          0.5,
                          "#f7f7f7"
                        ],
                        [
                          0.6,
                          "#e6f5d0"
                        ],
                        [
                          0.7,
                          "#b8e186"
                        ],
                        [
                          0.8,
                          "#7fbc41"
                        ],
                        [
                          0.9,
                          "#4d9221"
                        ],
                        [
                          1,
                          "#276419"
                        ]
                      ],
                      "sequential": [
                        [
                          0,
                          "#0d0887"
                        ],
                        [
                          0.1111111111111111,
                          "#46039f"
                        ],
                        [
                          0.2222222222222222,
                          "#7201a8"
                        ],
                        [
                          0.3333333333333333,
                          "#9c179e"
                        ],
                        [
                          0.4444444444444444,
                          "#bd3786"
                        ],
                        [
                          0.5555555555555556,
                          "#d8576b"
                        ],
                        [
                          0.6666666666666666,
                          "#ed7953"
                        ],
                        [
                          0.7777777777777778,
                          "#fb9f3a"
                        ],
                        [
                          0.8888888888888888,
                          "#fdca26"
                        ],
                        [
                          1,
                          "#f0f921"
                        ]
                      ],
                      "sequentialminus": [
                        [
                          0,
                          "#0d0887"
                        ],
                        [
                          0.1111111111111111,
                          "#46039f"
                        ],
                        [
                          0.2222222222222222,
                          "#7201a8"
                        ],
                        [
                          0.3333333333333333,
                          "#9c179e"
                        ],
                        [
                          0.4444444444444444,
                          "#bd3786"
                        ],
                        [
                          0.5555555555555556,
                          "#d8576b"
                        ],
                        [
                          0.6666666666666666,
                          "#ed7953"
                        ],
                        [
                          0.7777777777777778,
                          "#fb9f3a"
                        ],
                        [
                          0.8888888888888888,
                          "#fdca26"
                        ],
                        [
                          1,
                          "#f0f921"
                        ]
                      ]
                    },
                    "colorway": [
                      "#636efa",
                      "#EF553B",
                      "#00cc96",
                      "#ab63fa",
                      "#FFA15A",
                      "#19d3f3",
                      "#FF6692",
                      "#B6E880",
                      "#FF97FF",
                      "#FECB52"
                    ],
                    "font": {
                      "color": "#2a3f5f"
                    },
                    "geo": {
                      "bgcolor": "white",
                      "lakecolor": "white",
                      "landcolor": "#E5ECF6",
                      "showlakes": true,
                      "showland": true,
                      "subunitcolor": "white"
                    },
                    "hoverlabel": {
                      "align": "left"
                    },
                    "hovermode": "closest",
                    "mapbox": {
                      "style": "light"
                    },
                    "paper_bgcolor": "white",
                    "plot_bgcolor": "#E5ECF6",
                    "polar": {
                      "angularaxis": {
                        "gridcolor": "white",
                        "linecolor": "white",
                        "ticks": ""
                      },
                      "bgcolor": "#E5ECF6",
                      "radialaxis": {
                        "gridcolor": "white",
                        "linecolor": "white",
                        "ticks": ""
                      }
                    },
                    "scene": {
                      "xaxis": {
                        "backgroundcolor": "#E5ECF6",
                        "gridcolor": "white",
                        "gridwidth": 2,
                        "linecolor": "white",
                        "showbackground": true,
                        "ticks": "",
                        "zerolinecolor": "white"
                      },
                      "yaxis": {
                        "backgroundcolor": "#E5ECF6",
                        "gridcolor": "white",
                        "gridwidth": 2,
                        "linecolor": "white",
                        "showbackground": true,
                        "ticks": "",
                        "zerolinecolor": "white"
                      },
                      "zaxis": {
                        "backgroundcolor": "#E5ECF6",
                        "gridcolor": "white",
                        "gridwidth": 2,
                        "linecolor": "white",
                        "showbackground": true,
                        "ticks": "",
                        "zerolinecolor": "white"
                      }
                    },
                    "shapedefaults": {
                      "line": {
                        "color": "#2a3f5f"
                      }
                    },
                    "ternary": {
                      "aaxis": {
                        "gridcolor": "white",
                        "linecolor": "white",
                        "ticks": ""
                      },
                      "baxis": {
                        "gridcolor": "white",
                        "linecolor": "white",
                        "ticks": ""
                      },
                      "bgcolor": "#E5ECF6",
                      "caxis": {
                        "gridcolor": "white",
                        "linecolor": "white",
                        "ticks": ""
                      }
                    },
                    "title": {
                      "x": 0.05
                    },
                    "xaxis": {
                      "automargin": true,
                      "gridcolor": "white",
                      "linecolor": "white",
                      "ticks": "",
                      "title": {
                        "standoff": 15
                      },
                      "zerolinecolor": "white",
                      "zerolinewidth": 2
                    },
                    "yaxis": {
                      "automargin": true,
                      "gridcolor": "white",
                      "linecolor": "white",
                      "ticks": "",
                      "title": {
                        "standoff": 15
                      },
                      "zerolinecolor": "white",
                      "zerolinewidth": 2
                    }
                  }
                },
                "title": {
                  "text": "<b>Average Luminosity by color</b>"
                },
                "xaxis": {
                  "anchor": "y",
                  "domain": [
                    0,
                    1
                  ],
                  "title": {
                    "text": "L"
                  }
                },
                "yaxis": {
                  "anchor": "x",
                  "domain": [
                    0,
                    1
                  ],
                  "title": {
                    "text": "count"
                  }
                }
              }
            }
          },
          "metadata": {},
          "output_type": "display_data"
        }
      ],
      "source": [
        "#Most of the stars have luminosity close to 25k with blue stars having highest number of luminous stars\n",
        "fig = px.histogram(stars, 'L',             \n",
        "                   color='Color',\n",
        "                   title=\"<b>Average Luminosity by color</b>\")\n",
        "\n",
        "fig.add_vline(x=stars['L'].mean(), line_width=2, line_dash=\"dash\", line_color=\"black\")\n",
        "\n",
        "fig.show()"
      ]
    },
    {
      "cell_type": "code",
      "execution_count": 40,
      "metadata": {
        "colab": {
          "base_uri": "https://localhost:8080/",
          "height": 542
        },
        "id": "lQWFUztAJ_q2",
        "outputId": "3720a8d0-616f-441f-ccce-916cafc1a3eb"
      },
      "outputs": [
        {
          "data": {
            "application/vnd.plotly.v1+json": {
              "config": {
                "plotlyServerURL": "https://plot.ly"
              },
              "data": [
                {
                  "alignmentgroup": "True",
                  "bingroup": "x",
                  "hovertemplate": "Color=Red<br>R=%{x}<br>count=%{y}<extra></extra>",
                  "legendgroup": "Red",
                  "marker": {
                    "color": "#636efa",
                    "pattern": {
                      "shape": ""
                    }
                  },
                  "name": "Red",
                  "offsetgroup": "Red",
                  "orientation": "v",
                  "showlegend": true,
                  "type": "histogram",
                  "x": [
                    0.17,
                    0.1542,
                    0.102,
                    0.16,
                    0.103,
                    0.11,
                    0.127,
                    0.096,
                    0.11,
                    0.13,
                    0.51,
                    0.3761,
                    0.196,
                    0.393,
                    0.14,
                    0.24,
                    0.16,
                    0.47,
                    0.1967,
                    0.351,
                    19,
                    23,
                    88,
                    17,
                    25,
                    29,
                    45,
                    89,
                    84,
                    1520,
                    1260,
                    1183,
                    1324,
                    1349,
                    1673,
                    1284,
                    955,
                    1546,
                    0.057,
                    0.19,
                    0.094,
                    0.0918,
                    0.116,
                    0.132,
                    0.093,
                    0.0911,
                    0.118,
                    0.12,
                    0.273,
                    0.38,
                    0.18,
                    0.35,
                    0.291,
                    0.35,
                    0.24,
                    0.307,
                    0.098,
                    0.161,
                    0.876,
                    1289,
                    1124,
                    1635,
                    1486,
                    1522,
                    1324,
                    1534,
                    876,
                    1467,
                    1324,
                    0.0912,
                    0.0976,
                    0.11,
                    0.0932,
                    0.109,
                    0.121,
                    0.0932,
                    0.0899,
                    0.0782,
                    0.0856,
                    0.492,
                    0.38,
                    0.31,
                    0.34,
                    0.62,
                    0.73,
                    0.24,
                    0.56,
                    0.34,
                    0.256,
                    1480,
                    1420,
                    1190,
                    1553,
                    0.0915,
                    0.116,
                    0.126,
                    0.0987,
                    0.0773,
                    0.0973,
                    0.119,
                    0.0998,
                    0.112,
                    0.129,
                    0.148,
                    0.46,
                    0.28,
                    0.378,
                    0.319,
                    0.67,
                    0.258,
                    0.336,
                    0.471,
                    0.675
                  ],
                  "xaxis": "x",
                  "yaxis": "y"
                },
                {
                  "alignmentgroup": "True",
                  "bingroup": "x",
                  "hovertemplate": "Color=Blue-White<br>R=%{x}<br>count=%{y}<extra></extra>",
                  "legendgroup": "Blue-White",
                  "marker": {
                    "color": "#EF553B",
                    "pattern": {
                      "shape": ""
                    }
                  },
                  "name": "Blue-White",
                  "offsetgroup": "Blue-White",
                  "orientation": "v",
                  "showlegend": true,
                  "type": "histogram",
                  "x": [
                    0.0084,
                    0.014,
                    0.0097,
                    6.3,
                    7.2,
                    0.015,
                    0.0089,
                    0.0109,
                    0.0092,
                    0.0087,
                    2.63,
                    6.98,
                    7.01,
                    0.00981,
                    0.00972,
                    0.00898,
                    0.00879,
                    0.00945,
                    0.00996,
                    6.02,
                    2.487,
                    5.745,
                    5.68,
                    5.92,
                    6.4,
                    5.49,
                    6.78,
                    6.21,
                    1779,
                    708.9,
                    1134.5,
                    6.36,
                    5.856,
                    5.992,
                    6.64,
                    1.91,
                    6.03,
                    5.653,
                    1494,
                    1252,
                    1130
                  ],
                  "xaxis": "x",
                  "yaxis": "y"
                },
                {
                  "alignmentgroup": "True",
                  "bingroup": "x",
                  "hovertemplate": "Color=White<br>R=%{x}<br>count=%{y}<extra></extra>",
                  "legendgroup": "White",
                  "marker": {
                    "color": "#00cc96",
                    "pattern": {
                      "shape": ""
                    }
                  },
                  "name": "White",
                  "offsetgroup": "White",
                  "orientation": "v",
                  "showlegend": true,
                  "type": "histogram",
                  "x": [
                    0.01234,
                    0.011,
                    0.01,
                    2.89,
                    1.8,
                    0.0092,
                    0.0095,
                    0.00892,
                    0.00892,
                    0.00878,
                    1423,
                    1112
                  ],
                  "xaxis": "x",
                  "yaxis": "y"
                },
                {
                  "alignmentgroup": "True",
                  "bingroup": "x",
                  "hovertemplate": "Color=White-Yellow<br>R=%{x}<br>count=%{y}<extra></extra>",
                  "legendgroup": "White-Yellow",
                  "marker": {
                    "color": "#ab63fa",
                    "pattern": {
                      "shape": ""
                    }
                  },
                  "name": "White-Yellow",
                  "offsetgroup": "White-Yellow",
                  "orientation": "v",
                  "showlegend": true,
                  "type": "histogram",
                  "x": [
                    0.00984,
                    0.0128,
                    0.011,
                    0.9,
                    1.12,
                    0.98,
                    1.106,
                    0.99,
                    0.012,
                    0.91,
                    0.865,
                    0.795,
                    1.13,
                    1.34,
                    1.93
                  ],
                  "xaxis": "x",
                  "yaxis": "y"
                },
                {
                  "alignmentgroup": "True",
                  "bingroup": "x",
                  "hovertemplate": "Color=Orange<br>R=%{x}<br>count=%{y}<extra></extra>",
                  "legendgroup": "Orange",
                  "marker": {
                    "color": "#FFA15A",
                    "pattern": {
                      "shape": ""
                    }
                  },
                  "name": "Orange",
                  "offsetgroup": "Orange",
                  "orientation": "v",
                  "showlegend": true,
                  "type": "histogram",
                  "x": [
                    0.013,
                    1648,
                    1315
                  ],
                  "xaxis": "x",
                  "yaxis": "y"
                },
                {
                  "alignmentgroup": "True",
                  "bingroup": "x",
                  "hovertemplate": "Color=Blue<br>R=%{x}<br>count=%{y}<extra></extra>",
                  "legendgroup": "Blue",
                  "marker": {
                    "color": "#19d3f3",
                    "pattern": {
                      "shape": ""
                    }
                  },
                  "name": "Blue",
                  "offsetgroup": "Blue",
                  "orientation": "v",
                  "showlegend": true,
                  "type": "histogram",
                  "x": [
                    10.6,
                    26,
                    0.0131,
                    10.2,
                    12,
                    14,
                    36,
                    83,
                    12,
                    42,
                    63,
                    36,
                    57,
                    67,
                    0.0112,
                    0.00934,
                    6.86,
                    57,
                    36,
                    83,
                    97,
                    35,
                    24,
                    73,
                    39,
                    30,
                    24,
                    1679,
                    1045,
                    0.0121,
                    0.0114,
                    0.0113,
                    0.0116,
                    0.0124,
                    0.0142,
                    0.0127,
                    0.0104,
                    0.0106,
                    0.00998,
                    6.39,
                    6.237,
                    35,
                    76,
                    98,
                    81,
                    62,
                    46,
                    80,
                    25,
                    86,
                    92,
                    1356,
                    1948.5,
                    1356,
                    1194,
                    1783
                  ],
                  "xaxis": "x",
                  "yaxis": "y"
                }
              ],
              "layout": {
                "barmode": "relative",
                "legend": {
                  "title": {
                    "text": "Color"
                  },
                  "tracegroupgap": 0
                },
                "shapes": [
                  {
                    "line": {
                      "color": "black",
                      "dash": "dash",
                      "width": 2
                    },
                    "type": "line",
                    "x0": 237.15778137500004,
                    "x1": 237.15778137500004,
                    "xref": "x",
                    "y0": 0,
                    "y1": 1,
                    "yref": "y domain"
                  }
                ],
                "template": {
                  "data": {
                    "bar": [
                      {
                        "error_x": {
                          "color": "#2a3f5f"
                        },
                        "error_y": {
                          "color": "#2a3f5f"
                        },
                        "marker": {
                          "line": {
                            "color": "#E5ECF6",
                            "width": 0.5
                          },
                          "pattern": {
                            "fillmode": "overlay",
                            "size": 10,
                            "solidity": 0.2
                          }
                        },
                        "type": "bar"
                      }
                    ],
                    "barpolar": [
                      {
                        "marker": {
                          "line": {
                            "color": "#E5ECF6",
                            "width": 0.5
                          },
                          "pattern": {
                            "fillmode": "overlay",
                            "size": 10,
                            "solidity": 0.2
                          }
                        },
                        "type": "barpolar"
                      }
                    ],
                    "carpet": [
                      {
                        "aaxis": {
                          "endlinecolor": "#2a3f5f",
                          "gridcolor": "white",
                          "linecolor": "white",
                          "minorgridcolor": "white",
                          "startlinecolor": "#2a3f5f"
                        },
                        "baxis": {
                          "endlinecolor": "#2a3f5f",
                          "gridcolor": "white",
                          "linecolor": "white",
                          "minorgridcolor": "white",
                          "startlinecolor": "#2a3f5f"
                        },
                        "type": "carpet"
                      }
                    ],
                    "choropleth": [
                      {
                        "colorbar": {
                          "outlinewidth": 0,
                          "ticks": ""
                        },
                        "type": "choropleth"
                      }
                    ],
                    "contour": [
                      {
                        "colorbar": {
                          "outlinewidth": 0,
                          "ticks": ""
                        },
                        "colorscale": [
                          [
                            0,
                            "#0d0887"
                          ],
                          [
                            0.1111111111111111,
                            "#46039f"
                          ],
                          [
                            0.2222222222222222,
                            "#7201a8"
                          ],
                          [
                            0.3333333333333333,
                            "#9c179e"
                          ],
                          [
                            0.4444444444444444,
                            "#bd3786"
                          ],
                          [
                            0.5555555555555556,
                            "#d8576b"
                          ],
                          [
                            0.6666666666666666,
                            "#ed7953"
                          ],
                          [
                            0.7777777777777778,
                            "#fb9f3a"
                          ],
                          [
                            0.8888888888888888,
                            "#fdca26"
                          ],
                          [
                            1,
                            "#f0f921"
                          ]
                        ],
                        "type": "contour"
                      }
                    ],
                    "contourcarpet": [
                      {
                        "colorbar": {
                          "outlinewidth": 0,
                          "ticks": ""
                        },
                        "type": "contourcarpet"
                      }
                    ],
                    "heatmap": [
                      {
                        "colorbar": {
                          "outlinewidth": 0,
                          "ticks": ""
                        },
                        "colorscale": [
                          [
                            0,
                            "#0d0887"
                          ],
                          [
                            0.1111111111111111,
                            "#46039f"
                          ],
                          [
                            0.2222222222222222,
                            "#7201a8"
                          ],
                          [
                            0.3333333333333333,
                            "#9c179e"
                          ],
                          [
                            0.4444444444444444,
                            "#bd3786"
                          ],
                          [
                            0.5555555555555556,
                            "#d8576b"
                          ],
                          [
                            0.6666666666666666,
                            "#ed7953"
                          ],
                          [
                            0.7777777777777778,
                            "#fb9f3a"
                          ],
                          [
                            0.8888888888888888,
                            "#fdca26"
                          ],
                          [
                            1,
                            "#f0f921"
                          ]
                        ],
                        "type": "heatmap"
                      }
                    ],
                    "heatmapgl": [
                      {
                        "colorbar": {
                          "outlinewidth": 0,
                          "ticks": ""
                        },
                        "colorscale": [
                          [
                            0,
                            "#0d0887"
                          ],
                          [
                            0.1111111111111111,
                            "#46039f"
                          ],
                          [
                            0.2222222222222222,
                            "#7201a8"
                          ],
                          [
                            0.3333333333333333,
                            "#9c179e"
                          ],
                          [
                            0.4444444444444444,
                            "#bd3786"
                          ],
                          [
                            0.5555555555555556,
                            "#d8576b"
                          ],
                          [
                            0.6666666666666666,
                            "#ed7953"
                          ],
                          [
                            0.7777777777777778,
                            "#fb9f3a"
                          ],
                          [
                            0.8888888888888888,
                            "#fdca26"
                          ],
                          [
                            1,
                            "#f0f921"
                          ]
                        ],
                        "type": "heatmapgl"
                      }
                    ],
                    "histogram": [
                      {
                        "marker": {
                          "pattern": {
                            "fillmode": "overlay",
                            "size": 10,
                            "solidity": 0.2
                          }
                        },
                        "type": "histogram"
                      }
                    ],
                    "histogram2d": [
                      {
                        "colorbar": {
                          "outlinewidth": 0,
                          "ticks": ""
                        },
                        "colorscale": [
                          [
                            0,
                            "#0d0887"
                          ],
                          [
                            0.1111111111111111,
                            "#46039f"
                          ],
                          [
                            0.2222222222222222,
                            "#7201a8"
                          ],
                          [
                            0.3333333333333333,
                            "#9c179e"
                          ],
                          [
                            0.4444444444444444,
                            "#bd3786"
                          ],
                          [
                            0.5555555555555556,
                            "#d8576b"
                          ],
                          [
                            0.6666666666666666,
                            "#ed7953"
                          ],
                          [
                            0.7777777777777778,
                            "#fb9f3a"
                          ],
                          [
                            0.8888888888888888,
                            "#fdca26"
                          ],
                          [
                            1,
                            "#f0f921"
                          ]
                        ],
                        "type": "histogram2d"
                      }
                    ],
                    "histogram2dcontour": [
                      {
                        "colorbar": {
                          "outlinewidth": 0,
                          "ticks": ""
                        },
                        "colorscale": [
                          [
                            0,
                            "#0d0887"
                          ],
                          [
                            0.1111111111111111,
                            "#46039f"
                          ],
                          [
                            0.2222222222222222,
                            "#7201a8"
                          ],
                          [
                            0.3333333333333333,
                            "#9c179e"
                          ],
                          [
                            0.4444444444444444,
                            "#bd3786"
                          ],
                          [
                            0.5555555555555556,
                            "#d8576b"
                          ],
                          [
                            0.6666666666666666,
                            "#ed7953"
                          ],
                          [
                            0.7777777777777778,
                            "#fb9f3a"
                          ],
                          [
                            0.8888888888888888,
                            "#fdca26"
                          ],
                          [
                            1,
                            "#f0f921"
                          ]
                        ],
                        "type": "histogram2dcontour"
                      }
                    ],
                    "mesh3d": [
                      {
                        "colorbar": {
                          "outlinewidth": 0,
                          "ticks": ""
                        },
                        "type": "mesh3d"
                      }
                    ],
                    "parcoords": [
                      {
                        "line": {
                          "colorbar": {
                            "outlinewidth": 0,
                            "ticks": ""
                          }
                        },
                        "type": "parcoords"
                      }
                    ],
                    "pie": [
                      {
                        "automargin": true,
                        "type": "pie"
                      }
                    ],
                    "scatter": [
                      {
                        "marker": {
                          "colorbar": {
                            "outlinewidth": 0,
                            "ticks": ""
                          }
                        },
                        "type": "scatter"
                      }
                    ],
                    "scatter3d": [
                      {
                        "line": {
                          "colorbar": {
                            "outlinewidth": 0,
                            "ticks": ""
                          }
                        },
                        "marker": {
                          "colorbar": {
                            "outlinewidth": 0,
                            "ticks": ""
                          }
                        },
                        "type": "scatter3d"
                      }
                    ],
                    "scattercarpet": [
                      {
                        "marker": {
                          "colorbar": {
                            "outlinewidth": 0,
                            "ticks": ""
                          }
                        },
                        "type": "scattercarpet"
                      }
                    ],
                    "scattergeo": [
                      {
                        "marker": {
                          "colorbar": {
                            "outlinewidth": 0,
                            "ticks": ""
                          }
                        },
                        "type": "scattergeo"
                      }
                    ],
                    "scattergl": [
                      {
                        "marker": {
                          "colorbar": {
                            "outlinewidth": 0,
                            "ticks": ""
                          }
                        },
                        "type": "scattergl"
                      }
                    ],
                    "scattermapbox": [
                      {
                        "marker": {
                          "colorbar": {
                            "outlinewidth": 0,
                            "ticks": ""
                          }
                        },
                        "type": "scattermapbox"
                      }
                    ],
                    "scatterpolar": [
                      {
                        "marker": {
                          "colorbar": {
                            "outlinewidth": 0,
                            "ticks": ""
                          }
                        },
                        "type": "scatterpolar"
                      }
                    ],
                    "scatterpolargl": [
                      {
                        "marker": {
                          "colorbar": {
                            "outlinewidth": 0,
                            "ticks": ""
                          }
                        },
                        "type": "scatterpolargl"
                      }
                    ],
                    "scatterternary": [
                      {
                        "marker": {
                          "colorbar": {
                            "outlinewidth": 0,
                            "ticks": ""
                          }
                        },
                        "type": "scatterternary"
                      }
                    ],
                    "surface": [
                      {
                        "colorbar": {
                          "outlinewidth": 0,
                          "ticks": ""
                        },
                        "colorscale": [
                          [
                            0,
                            "#0d0887"
                          ],
                          [
                            0.1111111111111111,
                            "#46039f"
                          ],
                          [
                            0.2222222222222222,
                            "#7201a8"
                          ],
                          [
                            0.3333333333333333,
                            "#9c179e"
                          ],
                          [
                            0.4444444444444444,
                            "#bd3786"
                          ],
                          [
                            0.5555555555555556,
                            "#d8576b"
                          ],
                          [
                            0.6666666666666666,
                            "#ed7953"
                          ],
                          [
                            0.7777777777777778,
                            "#fb9f3a"
                          ],
                          [
                            0.8888888888888888,
                            "#fdca26"
                          ],
                          [
                            1,
                            "#f0f921"
                          ]
                        ],
                        "type": "surface"
                      }
                    ],
                    "table": [
                      {
                        "cells": {
                          "fill": {
                            "color": "#EBF0F8"
                          },
                          "line": {
                            "color": "white"
                          }
                        },
                        "header": {
                          "fill": {
                            "color": "#C8D4E3"
                          },
                          "line": {
                            "color": "white"
                          }
                        },
                        "type": "table"
                      }
                    ]
                  },
                  "layout": {
                    "annotationdefaults": {
                      "arrowcolor": "#2a3f5f",
                      "arrowhead": 0,
                      "arrowwidth": 1
                    },
                    "autotypenumbers": "strict",
                    "coloraxis": {
                      "colorbar": {
                        "outlinewidth": 0,
                        "ticks": ""
                      }
                    },
                    "colorscale": {
                      "diverging": [
                        [
                          0,
                          "#8e0152"
                        ],
                        [
                          0.1,
                          "#c51b7d"
                        ],
                        [
                          0.2,
                          "#de77ae"
                        ],
                        [
                          0.3,
                          "#f1b6da"
                        ],
                        [
                          0.4,
                          "#fde0ef"
                        ],
                        [
                          0.5,
                          "#f7f7f7"
                        ],
                        [
                          0.6,
                          "#e6f5d0"
                        ],
                        [
                          0.7,
                          "#b8e186"
                        ],
                        [
                          0.8,
                          "#7fbc41"
                        ],
                        [
                          0.9,
                          "#4d9221"
                        ],
                        [
                          1,
                          "#276419"
                        ]
                      ],
                      "sequential": [
                        [
                          0,
                          "#0d0887"
                        ],
                        [
                          0.1111111111111111,
                          "#46039f"
                        ],
                        [
                          0.2222222222222222,
                          "#7201a8"
                        ],
                        [
                          0.3333333333333333,
                          "#9c179e"
                        ],
                        [
                          0.4444444444444444,
                          "#bd3786"
                        ],
                        [
                          0.5555555555555556,
                          "#d8576b"
                        ],
                        [
                          0.6666666666666666,
                          "#ed7953"
                        ],
                        [
                          0.7777777777777778,
                          "#fb9f3a"
                        ],
                        [
                          0.8888888888888888,
                          "#fdca26"
                        ],
                        [
                          1,
                          "#f0f921"
                        ]
                      ],
                      "sequentialminus": [
                        [
                          0,
                          "#0d0887"
                        ],
                        [
                          0.1111111111111111,
                          "#46039f"
                        ],
                        [
                          0.2222222222222222,
                          "#7201a8"
                        ],
                        [
                          0.3333333333333333,
                          "#9c179e"
                        ],
                        [
                          0.4444444444444444,
                          "#bd3786"
                        ],
                        [
                          0.5555555555555556,
                          "#d8576b"
                        ],
                        [
                          0.6666666666666666,
                          "#ed7953"
                        ],
                        [
                          0.7777777777777778,
                          "#fb9f3a"
                        ],
                        [
                          0.8888888888888888,
                          "#fdca26"
                        ],
                        [
                          1,
                          "#f0f921"
                        ]
                      ]
                    },
                    "colorway": [
                      "#636efa",
                      "#EF553B",
                      "#00cc96",
                      "#ab63fa",
                      "#FFA15A",
                      "#19d3f3",
                      "#FF6692",
                      "#B6E880",
                      "#FF97FF",
                      "#FECB52"
                    ],
                    "font": {
                      "color": "#2a3f5f"
                    },
                    "geo": {
                      "bgcolor": "white",
                      "lakecolor": "white",
                      "landcolor": "#E5ECF6",
                      "showlakes": true,
                      "showland": true,
                      "subunitcolor": "white"
                    },
                    "hoverlabel": {
                      "align": "left"
                    },
                    "hovermode": "closest",
                    "mapbox": {
                      "style": "light"
                    },
                    "paper_bgcolor": "white",
                    "plot_bgcolor": "#E5ECF6",
                    "polar": {
                      "angularaxis": {
                        "gridcolor": "white",
                        "linecolor": "white",
                        "ticks": ""
                      },
                      "bgcolor": "#E5ECF6",
                      "radialaxis": {
                        "gridcolor": "white",
                        "linecolor": "white",
                        "ticks": ""
                      }
                    },
                    "scene": {
                      "xaxis": {
                        "backgroundcolor": "#E5ECF6",
                        "gridcolor": "white",
                        "gridwidth": 2,
                        "linecolor": "white",
                        "showbackground": true,
                        "ticks": "",
                        "zerolinecolor": "white"
                      },
                      "yaxis": {
                        "backgroundcolor": "#E5ECF6",
                        "gridcolor": "white",
                        "gridwidth": 2,
                        "linecolor": "white",
                        "showbackground": true,
                        "ticks": "",
                        "zerolinecolor": "white"
                      },
                      "zaxis": {
                        "backgroundcolor": "#E5ECF6",
                        "gridcolor": "white",
                        "gridwidth": 2,
                        "linecolor": "white",
                        "showbackground": true,
                        "ticks": "",
                        "zerolinecolor": "white"
                      }
                    },
                    "shapedefaults": {
                      "line": {
                        "color": "#2a3f5f"
                      }
                    },
                    "ternary": {
                      "aaxis": {
                        "gridcolor": "white",
                        "linecolor": "white",
                        "ticks": ""
                      },
                      "baxis": {
                        "gridcolor": "white",
                        "linecolor": "white",
                        "ticks": ""
                      },
                      "bgcolor": "#E5ECF6",
                      "caxis": {
                        "gridcolor": "white",
                        "linecolor": "white",
                        "ticks": ""
                      }
                    },
                    "title": {
                      "x": 0.05
                    },
                    "xaxis": {
                      "automargin": true,
                      "gridcolor": "white",
                      "linecolor": "white",
                      "ticks": "",
                      "title": {
                        "standoff": 15
                      },
                      "zerolinecolor": "white",
                      "zerolinewidth": 2
                    },
                    "yaxis": {
                      "automargin": true,
                      "gridcolor": "white",
                      "linecolor": "white",
                      "ticks": "",
                      "title": {
                        "standoff": 15
                      },
                      "zerolinecolor": "white",
                      "zerolinewidth": 2
                    }
                  }
                },
                "title": {
                  "text": "<b>Average Relative Radius by color</b>"
                },
                "xaxis": {
                  "anchor": "y",
                  "domain": [
                    0,
                    1
                  ],
                  "title": {
                    "text": "R"
                  }
                },
                "yaxis": {
                  "anchor": "x",
                  "domain": [
                    0,
                    1
                  ],
                  "title": {
                    "text": "count"
                  }
                }
              }
            }
          },
          "metadata": {},
          "output_type": "display_data"
        }
      ],
      "source": [
        "#Most of the stars have small relative radius close to 100 with blue stars having highest number of larger stars\n",
        "fig = px.histogram(stars, 'R',             \n",
        "                   color='Color',\n",
        "                   title=\"<b>Average Relative Radius by color</b>\")\n",
        "\n",
        "fig.add_vline(x=stars['R'].mean(), line_width=2, line_dash=\"dash\", line_color=\"black\")\n",
        "\n",
        "fig.show()"
      ]
    },
    {
      "cell_type": "code",
      "execution_count": 41,
      "metadata": {
        "colab": {
          "base_uri": "https://localhost:8080/",
          "height": 297
        },
        "id": "sXna1zYtLED7",
        "outputId": "be693320-e4dd-490f-e968-7025efb1f666"
      },
      "outputs": [
        {
          "data": {
            "text/plain": [
              "<AxesSubplot:xlabel='Type', ylabel='Temperature'>"
            ]
          },
          "execution_count": 41,
          "metadata": {},
          "output_type": "execute_result"
        },
        {
          "data": {
            "image/png": "[encoded data removed]",
            "text/plain": [
              "<Figure size 432x288 with 1 Axes>"
            ]
          },
          "metadata": {
            "needs_background": "light"
          },
          "output_type": "display_data"
        }
      ],
      "source": [
        "sns.barplot(data = stars, x = 'Type', y = 'Temperature')"
      ]
    },
    {
      "cell_type": "code",
      "execution_count": 42,
      "metadata": {
        "colab": {
          "base_uri": "https://localhost:8080/",
          "height": 297
        },
        "id": "X-bvTOi_LlAS",
        "outputId": "6fe28822-5786-4e94-c165-2d35211a25aa"
      },
      "outputs": [
        {
          "data": {
            "text/plain": [
              "<AxesSubplot:xlabel='Color', ylabel='Temperature'>"
            ]
          },
          "execution_count": 42,
          "metadata": {},
          "output_type": "execute_result"
        },
        {
          "data": {
            "image/png": "[encoded data removed]",
            "text/plain": [
              "<Figure size 432x288 with 1 Axes>"
            ]
          },
          "metadata": {
            "needs_background": "light"
          },
          "output_type": "display_data"
        }
      ],
      "source": [
        "sns.barplot(data = stars, x = 'Color', y = 'Temperature')"
      ]
    },
    {
      "cell_type": "code",
      "execution_count": 43,
      "metadata": {
        "colab": {
          "base_uri": "https://localhost:8080/",
          "height": 298
        },
        "id": "8DuDGDa9MF8b",
        "outputId": "a6219148-5b07-4ab7-829a-5ca03c4fb699"
      },
      "outputs": [
        {
          "data": {
            "text/plain": [
              "<AxesSubplot:xlabel='Spectral_Class', ylabel='Temperature'>"
            ]
          },
          "execution_count": 43,
          "metadata": {},
          "output_type": "execute_result"
        },
        {
          "data": {
            "image/png": "[encoded data removed]",
            "text/plain": [
              "<Figure size 432x288 with 1 Axes>"
            ]
          },
          "metadata": {
            "needs_background": "light"
          },
          "output_type": "display_data"
        }
      ],
      "source": [
        "sns.barplot(data = stars, x = 'Spectral_Class', y = 'Temperature')"
      ]
    },
    {
      "cell_type": "code",
      "execution_count": 44,
      "metadata": {
        "colab": {
          "base_uri": "https://localhost:8080/",
          "height": 921
        },
        "id": "_W26Q7PLODmx",
        "outputId": "5b395ad0-846d-4416-e6c7-53c7bb81a9bb"
      },
      "outputs": [
        {
          "data": {
            "text/plain": [
              "<seaborn.axisgrid.PairGrid at 0x7fbfb8d682b0>"
            ]
          },
          "execution_count": 44,
          "metadata": {},
          "output_type": "execute_result"
        },
        {
          "data": {
            "image/png": "[encoded data removed]",
            "text/plain": [
              "<Figure size 900x900 with 30 Axes>"
            ]
          },
          "metadata": {
            "needs_background": "light"
          },
          "output_type": "display_data"
        }
      ],
      "source": [
        "#doesn't show much\n",
        "sns.pairplot(stars)"
      ]
    },
    {
      "cell_type": "code",
      "execution_count": 45,
      "metadata": {
        "id": "AVwXQiCEPAov"
      },
      "outputs": [],
      "source": [
        "stars_type_0 = stars[stars['Type'] == 0]\n",
        "stars_type_1 = stars[stars['Type'] == 1]\n",
        "stars_type_2 = stars[stars['Type'] == 2]\n",
        "stars_type_3 = stars[stars['Type'] == 3]\n",
        "stars_type_4 = stars[stars['Type'] == 4]\n",
        "stars_type_5 = stars[stars['Type'] == 5]\n",
        "\n",
        "star_type_df = [stars_type_0, stars_type_1, stars_type_2, stars_type_3, stars_type_4, stars_type_5]\n",
        "star_type_names_df = ['0', '1', '2', '3', '4', '5']"
      ]
    },
    {
      "cell_type": "code",
      "execution_count": 46,
      "metadata": {
        "colab": {
          "base_uri": "https://localhost:8080/",
          "height": 1000
        },
        "id": "cYmojIzaR_fM",
        "outputId": "ffa4415a-2fc9-4e7b-da75-88a48963f3f4"
      },
      "outputs": [
        {
          "data": {
            "image/png": "[encoded data removed]",
            "text/plain": [
              "<Figure size 720x576 with 1 Axes>"
            ]
          },
          "metadata": {
            "needs_background": "light"
          },
          "output_type": "display_data"
        },
        {
          "data": {
            "image/png": "[encoded data removed]",
            "text/plain": [
              "<Figure size 720x576 with 1 Axes>"
            ]
          },
          "metadata": {
            "needs_background": "light"
          },
          "output_type": "display_data"
        },
        {
          "data": {
            "image/png": "[encoded data removed]",
            "text/plain": [
              "<Figure size 720x576 with 1 Axes>"
            ]
          },
          "metadata": {
            "needs_background": "light"
          },
          "output_type": "display_data"
        },
        {
          "data": {
            "image/png": "[encoded data removed]",
            "text/plain": [
              "<Figure size 720x576 with 1 Axes>"
            ]
          },
          "metadata": {
            "needs_background": "light"
          },
          "output_type": "display_data"
        },
        {
          "data": {
            "image/png": "[encoded data removed]",
            "text/plain": [
              "<Figure size 720x576 with 1 Axes>"
            ]
          },
          "metadata": {
            "needs_background": "light"
          },
          "output_type": "display_data"
        },
        {
          "data": {
            "image/png": "[encoded data removed]",
            "text/plain": [
              "<Figure size 720x576 with 1 Axes>"
            ]
          },
          "metadata": {
            "needs_background": "light"
          },
          "output_type": "display_data"
        }
      ],
      "source": [
        "for index, star_type in enumerate(star_type_df):\n",
        "  plt.figure(figsize = (10,8))\n",
        "  plt.hist(star_type['Color'], \n",
        "           bins = 10)\n",
        "  plt.title('Colors for star Type : '+ star_type_names_df[index])\n",
        "  plt.xlabel('Color')\n",
        "  plt.ylabel('Frequency')\n",
        "  plt.xticks(rotation = 45)\n",
        "\n",
        "  plt.show()"
      ]
    },
    {
      "cell_type": "code",
      "execution_count": 47,
      "metadata": {
        "colab": {
          "base_uri": "https://localhost:8080/",
          "height": 1000
        },
        "id": "8azaKVPeUOUh",
        "outputId": "9c7588d4-f198-4394-f8db-fc382ba651cf"
      },
      "outputs": [
        {
          "data": {
            "image/png": "[encoded data removed]",
            "text/plain": [
              "<Figure size 720x576 with 1 Axes>"
            ]
          },
          "metadata": {
            "needs_background": "light"
          },
          "output_type": "display_data"
        },
        {
          "data": {
            "image/png": "[encoded data removed]",
            "text/plain": [
              "<Figure size 720x576 with 1 Axes>"
            ]
          },
          "metadata": {
            "needs_background": "light"
          },
          "output_type": "display_data"
        },
        {
          "data": {
            "image/png": "[encoded data removed]",
            "text/plain": [
              "<Figure size 720x576 with 1 Axes>"
            ]
          },
          "metadata": {
            "needs_background": "light"
          },
          "output_type": "display_data"
        },
        {
          "data": {
            "image/png": "[encoded data removed]",
            "text/plain": [
              "<Figure size 720x576 with 1 Axes>"
            ]
          },
          "metadata": {
            "needs_background": "light"
          },
          "output_type": "display_data"
        },
        {
          "data": {
            "image/png": "[encoded data removed]",
            "text/plain": [
              "<Figure size 720x576 with 1 Axes>"
            ]
          },
          "metadata": {
            "needs_background": "light"
          },
          "output_type": "display_data"
        },
        {
          "data": {
            "image/png": "[encoded data removed]",
            "text/plain": [
              "<Figure size 720x576 with 1 Axes>"
            ]
          },
          "metadata": {
            "needs_background": "light"
          },
          "output_type": "display_data"
        }
      ],
      "source": [
        "for index, star_type in enumerate(star_type_df):\n",
        "  plt.figure(figsize = (10,8))\n",
        "  sns.histplot(star_type['Temperature'], \n",
        "           bins = 25, kde = True)\n",
        "  plt.title('Temperature for star Type : '+ star_type_names_df[index])\n",
        "  plt.xlabel('Temperature')\n",
        "  plt.ylabel('Frequency')\n",
        "  plt.xticks(rotation = 45)\n",
        "\n",
        "  plt.show()"
      ]
    },
    {
      "cell_type": "code",
      "execution_count": 48,
      "metadata": {
        "colab": {
          "base_uri": "https://localhost:8080/",
          "height": 1000
        },
        "id": "D1X6uklLWNij",
        "outputId": "9a241f51-dfd1-41a6-97cc-4c7e793c1b0b"
      },
      "outputs": [
        {
          "data": {
            "image/png": "[encoded data removed]",
            "text/plain": [
              "<Figure size 720x576 with 1 Axes>"
            ]
          },
          "metadata": {
            "needs_background": "light"
          },
          "output_type": "display_data"
        },
        {
          "data": {
            "image/png": "[encoded data removed]",
            "text/plain": [
              "<Figure size 720x576 with 1 Axes>"
            ]
          },
          "metadata": {
            "needs_background": "light"
          },
          "output_type": "display_data"
        },
        {
          "data": {
            "image/png": "[encoded data removed]",
            "text/plain": [
              "<Figure size 720x576 with 1 Axes>"
            ]
          },
          "metadata": {
            "needs_background": "light"
          },
          "output_type": "display_data"
        },
        {
          "data": {
            "image/png": "[encoded data removed]",
            "text/plain": [
              "<Figure size 720x576 with 1 Axes>"
            ]
          },
          "metadata": {
            "needs_background": "light"
          },
          "output_type": "display_data"
        },
        {
          "data": {
            "image/png": "[encoded data removed]",
            "text/plain": [
              "<Figure size 720x576 with 1 Axes>"
            ]
          },
          "metadata": {
            "needs_background": "light"
          },
          "output_type": "display_data"
        },
        {
          "data": {
            "image/png": "[encoded data removed]",
            "text/plain": [
              "<Figure size 720x576 with 1 Axes>"
            ]
          },
          "metadata": {
            "needs_background": "light"
          },
          "output_type": "display_data"
        }
      ],
      "source": [
        "for index, star_type in enumerate(star_type_df):\n",
        "  plt.figure(figsize = (10,8))\n",
        "  plt.hist(star_type['Spectral_Class'])\n",
        "  plt.title('Spectral Classes for star Type : '+ star_type_names_df[index])\n",
        "  plt.xlabel('spectral Class')\n",
        "  plt.ylabel('Frequency')\n",
        "  plt.xticks(rotation = 45)\n",
        "\n",
        "  plt.show()"
      ]
    },
    {
      "cell_type": "code",
      "execution_count": 49,
      "metadata": {
        "colab": {
          "base_uri": "https://localhost:8080/",
          "height": 1000
        },
        "id": "Rls6DSWEVCRJ",
        "outputId": "20e65075-5bc9-490b-ba58-ab5b6394781b"
      },
      "outputs": [
        {
          "data": {
            "image/png": "[encoded data removed]",
            "text/plain": [
              "<Figure size 720x576 with 1 Axes>"
            ]
          },
          "metadata": {
            "needs_background": "light"
          },
          "output_type": "display_data"
        },
        {
          "data": {
            "image/png": "[encoded data removed]",
            "text/plain": [
              "<Figure size 720x576 with 1 Axes>"
            ]
          },
          "metadata": {
            "needs_background": "light"
          },
          "output_type": "display_data"
        },
        {
          "data": {
            "image/png": "[encoded data removed]",
            "text/plain": [
              "<Figure size 720x576 with 1 Axes>"
            ]
          },
          "metadata": {
            "needs_background": "light"
          },
          "output_type": "display_data"
        },
        {
          "data": {
            "image/png": "[encoded data removed]",
            "text/plain": [
              "<Figure size 720x576 with 1 Axes>"
            ]
          },
          "metadata": {
            "needs_background": "light"
          },
          "output_type": "display_data"
        },
        {
          "data": {
            "image/png": "[encoded data removed]",
            "text/plain": [
              "<Figure size 720x576 with 1 Axes>"
            ]
          },
          "metadata": {
            "needs_background": "light"
          },
          "output_type": "display_data"
        },
        {
          "data": {
            "image/png": "[encoded data removed]",
            "text/plain": [
              "<Figure size 720x576 with 1 Axes>"
            ]
          },
          "metadata": {
            "needs_background": "light"
          },
          "output_type": "display_data"
        }
      ],
      "source": [
        "for index, star_type in enumerate(star_type_df):\n",
        "  plt.figure(figsize = (10,8))\n",
        "  sns.histplot(star_type['A_M'], \n",
        "           bins = 25,\n",
        "           kde = True)\n",
        "  plt.title('Absolute Magnitude for star Type : '+ star_type_names_df[index])\n",
        "  plt.xlabel('Absolute Magnitude')\n",
        "  plt.ylabel('Frequency')\n",
        "  plt.xticks(rotation = 45)\n",
        "\n",
        "  plt.show()"
      ]
    },
    {
      "cell_type": "code",
      "execution_count": 50,
      "metadata": {
        "colab": {
          "base_uri": "https://localhost:8080/",
          "height": 536
        },
        "id": "q1OjG-yPXA61",
        "outputId": "1dc0cefb-59da-4d31-bbac-2668b140f6d1"
      },
      "outputs": [
        {
          "data": {
            "text/html": [
              "<div>\n",
              "<style scoped>\n",
              "    .dataframe tbody tr th:only-of-type {\n",
              "        vertical-align: middle;\n",
              "    }\n",
              "\n",
              "    .dataframe tbody tr th {\n",
              "        vertical-align: top;\n",
              "    }\n",
              "\n",
              "    .dataframe thead th {\n",
              "        text-align: right;\n",
              "    }\n",
              "</style>\n",
              "<table border=\"1\" class=\"dataframe\">\n",
              "  <thead>\n",
              "    <tr style=\"text-align: right;\">\n",
              "      <th></th>\n",
              "      <th>Temperature</th>\n",
              "      <th>L</th>\n",
              "      <th>R</th>\n",
              "      <th>A_M</th>\n",
              "      <th>Type</th>\n",
              "      <th>Color_Blue-White</th>\n",
              "      <th>Color_Orange</th>\n",
              "      <th>Color_Red</th>\n",
              "      <th>Color_White</th>\n",
              "      <th>Color_White-Yellow</th>\n",
              "      <th>Spectral_Class_B</th>\n",
              "      <th>Spectral_Class_F</th>\n",
              "      <th>Spectral_Class_G</th>\n",
              "      <th>Spectral_Class_K</th>\n",
              "      <th>Spectral_Class_M</th>\n",
              "      <th>Spectral_Class_O</th>\n",
              "    </tr>\n",
              "    <tr>\n",
              "      <th>Index</th>\n",
              "      <th></th>\n",
              "      <th></th>\n",
              "      <th></th>\n",
              "      <th></th>\n",
              "      <th></th>\n",
              "      <th></th>\n",
              "      <th></th>\n",
              "      <th></th>\n",
              "      <th></th>\n",
              "      <th></th>\n",
              "      <th></th>\n",
              "      <th></th>\n",
              "      <th></th>\n",
              "      <th></th>\n",
              "      <th></th>\n",
              "      <th></th>\n",
              "    </tr>\n",
              "  </thead>\n",
              "  <tbody>\n",
              "    <tr>\n",
              "      <th>0</th>\n",
              "      <td>3068</td>\n",
              "      <td>0.002400</td>\n",
              "      <td>0.1700</td>\n",
              "      <td>16.12</td>\n",
              "      <td>0</td>\n",
              "      <td>0</td>\n",
              "      <td>0</td>\n",
              "      <td>1</td>\n",
              "      <td>0</td>\n",
              "      <td>0</td>\n",
              "      <td>0</td>\n",
              "      <td>0</td>\n",
              "      <td>0</td>\n",
              "      <td>0</td>\n",
              "      <td>1</td>\n",
              "      <td>0</td>\n",
              "    </tr>\n",
              "    <tr>\n",
              "      <th>1</th>\n",
              "      <td>3042</td>\n",
              "      <td>0.000500</td>\n",
              "      <td>0.1542</td>\n",
              "      <td>16.60</td>\n",
              "      <td>0</td>\n",
              "      <td>0</td>\n",
              "      <td>0</td>\n",
              "      <td>1</td>\n",
              "      <td>0</td>\n",
              "      <td>0</td>\n",
              "      <td>0</td>\n",
              "      <td>0</td>\n",
              "      <td>0</td>\n",
              "      <td>0</td>\n",
              "      <td>1</td>\n",
              "      <td>0</td>\n",
              "    </tr>\n",
              "    <tr>\n",
              "      <th>2</th>\n",
              "      <td>2600</td>\n",
              "      <td>0.000300</td>\n",
              "      <td>0.1020</td>\n",
              "      <td>18.70</td>\n",
              "      <td>0</td>\n",
              "      <td>0</td>\n",
              "      <td>0</td>\n",
              "      <td>1</td>\n",
              "      <td>0</td>\n",
              "      <td>0</td>\n",
              "      <td>0</td>\n",
              "      <td>0</td>\n",
              "      <td>0</td>\n",
              "      <td>0</td>\n",
              "      <td>1</td>\n",
              "      <td>0</td>\n",
              "    </tr>\n",
              "    <tr>\n",
              "      <th>3</th>\n",
              "      <td>2800</td>\n",
              "      <td>0.000200</td>\n",
              "      <td>0.1600</td>\n",
              "      <td>16.65</td>\n",
              "      <td>0</td>\n",
              "      <td>0</td>\n",
              "      <td>0</td>\n",
              "      <td>1</td>\n",
              "      <td>0</td>\n",
              "      <td>0</td>\n",
              "      <td>0</td>\n",
              "      <td>0</td>\n",
              "      <td>0</td>\n",
              "      <td>0</td>\n",
              "      <td>1</td>\n",
              "      <td>0</td>\n",
              "    </tr>\n",
              "    <tr>\n",
              "      <th>4</th>\n",
              "      <td>1939</td>\n",
              "      <td>0.000138</td>\n",
              "      <td>0.1030</td>\n",
              "      <td>20.06</td>\n",
              "      <td>0</td>\n",
              "      <td>0</td>\n",
              "      <td>0</td>\n",
              "      <td>1</td>\n",
              "      <td>0</td>\n",
              "      <td>0</td>\n",
              "      <td>0</td>\n",
              "      <td>0</td>\n",
              "      <td>0</td>\n",
              "      <td>0</td>\n",
              "      <td>1</td>\n",
              "      <td>0</td>\n",
              "    </tr>\n",
              "    <tr>\n",
              "      <th>...</th>\n",
              "      <td>...</td>\n",
              "      <td>...</td>\n",
              "      <td>...</td>\n",
              "      <td>...</td>\n",
              "      <td>...</td>\n",
              "      <td>...</td>\n",
              "      <td>...</td>\n",
              "      <td>...</td>\n",
              "      <td>...</td>\n",
              "      <td>...</td>\n",
              "      <td>...</td>\n",
              "      <td>...</td>\n",
              "      <td>...</td>\n",
              "      <td>...</td>\n",
              "      <td>...</td>\n",
              "      <td>...</td>\n",
              "    </tr>\n",
              "    <tr>\n",
              "      <th>235</th>\n",
              "      <td>38940</td>\n",
              "      <td>374830.000000</td>\n",
              "      <td>1356.0000</td>\n",
              "      <td>-9.93</td>\n",
              "      <td>5</td>\n",
              "      <td>0</td>\n",
              "      <td>0</td>\n",
              "      <td>0</td>\n",
              "      <td>0</td>\n",
              "      <td>0</td>\n",
              "      <td>0</td>\n",
              "      <td>0</td>\n",
              "      <td>0</td>\n",
              "      <td>0</td>\n",
              "      <td>0</td>\n",
              "      <td>1</td>\n",
              "    </tr>\n",
              "    <tr>\n",
              "      <th>236</th>\n",
              "      <td>30839</td>\n",
              "      <td>834042.000000</td>\n",
              "      <td>1194.0000</td>\n",
              "      <td>-10.63</td>\n",
              "      <td>5</td>\n",
              "      <td>0</td>\n",
              "      <td>0</td>\n",
              "      <td>0</td>\n",
              "      <td>0</td>\n",
              "      <td>0</td>\n",
              "      <td>0</td>\n",
              "      <td>0</td>\n",
              "      <td>0</td>\n",
              "      <td>0</td>\n",
              "      <td>0</td>\n",
              "      <td>1</td>\n",
              "    </tr>\n",
              "    <tr>\n",
              "      <th>237</th>\n",
              "      <td>8829</td>\n",
              "      <td>537493.000000</td>\n",
              "      <td>1423.0000</td>\n",
              "      <td>-10.73</td>\n",
              "      <td>5</td>\n",
              "      <td>0</td>\n",
              "      <td>0</td>\n",
              "      <td>0</td>\n",
              "      <td>1</td>\n",
              "      <td>0</td>\n",
              "      <td>0</td>\n",
              "      <td>0</td>\n",
              "      <td>0</td>\n",
              "      <td>0</td>\n",
              "      <td>0</td>\n",
              "      <td>0</td>\n",
              "    </tr>\n",
              "    <tr>\n",
              "      <th>238</th>\n",
              "      <td>9235</td>\n",
              "      <td>404940.000000</td>\n",
              "      <td>1112.0000</td>\n",
              "      <td>-11.23</td>\n",
              "      <td>5</td>\n",
              "      <td>0</td>\n",
              "      <td>0</td>\n",
              "      <td>0</td>\n",
              "      <td>1</td>\n",
              "      <td>0</td>\n",
              "      <td>0</td>\n",
              "      <td>0</td>\n",
              "      <td>0</td>\n",
              "      <td>0</td>\n",
              "      <td>0</td>\n",
              "      <td>0</td>\n",
              "    </tr>\n",
              "    <tr>\n",
              "      <th>239</th>\n",
              "      <td>37882</td>\n",
              "      <td>294903.000000</td>\n",
              "      <td>1783.0000</td>\n",
              "      <td>-7.80</td>\n",
              "      <td>5</td>\n",
              "      <td>0</td>\n",
              "      <td>0</td>\n",
              "      <td>0</td>\n",
              "      <td>0</td>\n",
              "      <td>0</td>\n",
              "      <td>0</td>\n",
              "      <td>0</td>\n",
              "      <td>0</td>\n",
              "      <td>0</td>\n",
              "      <td>0</td>\n",
              "      <td>1</td>\n",
              "    </tr>\n",
              "  </tbody>\n",
              "</table>\n",
              "<p>240 rows × 16 columns</p>\n",
              "</div>"
            ],
            "text/plain": [
              "       Temperature              L          R    A_M  Type  Color_Blue-White  \\\n",
              "Index                                                                         \n",
              "0             3068       0.002400     0.1700  16.12     0                 0   \n",
              "1             3042       0.000500     0.1542  16.60     0                 0   \n",
              "2             2600       0.000300     0.1020  18.70     0                 0   \n",
              "3             2800       0.000200     0.1600  16.65     0                 0   \n",
              "4             1939       0.000138     0.1030  20.06     0                 0   \n",
              "...            ...            ...        ...    ...   ...               ...   \n",
              "235          38940  374830.000000  1356.0000  -9.93     5                 0   \n",
              "236          30839  834042.000000  1194.0000 -10.63     5                 0   \n",
              "237           8829  537493.000000  1423.0000 -10.73     5                 0   \n",
              "238           9235  404940.000000  1112.0000 -11.23     5                 0   \n",
              "239          37882  294903.000000  1783.0000  -7.80     5                 0   \n",
              "\n",
              "       Color_Orange  Color_Red  Color_White  Color_White-Yellow  \\\n",
              "Index                                                             \n",
              "0                 0          1            0                   0   \n",
              "1                 0          1            0                   0   \n",
              "2                 0          1            0                   0   \n",
              "3                 0          1            0                   0   \n",
              "4                 0          1            0                   0   \n",
              "...             ...        ...          ...                 ...   \n",
              "235               0          0            0                   0   \n",
              "236               0          0            0                   0   \n",
              "237               0          0            1                   0   \n",
              "238               0          0            1                   0   \n",
              "239               0          0            0                   0   \n",
              "\n",
              "       Spectral_Class_B  Spectral_Class_F  Spectral_Class_G  Spectral_Class_K  \\\n",
              "Index                                                                           \n",
              "0                     0                 0                 0                 0   \n",
              "1                     0                 0                 0                 0   \n",
              "2                     0                 0                 0                 0   \n",
              "3                     0                 0                 0                 0   \n",
              "4                     0                 0                 0                 0   \n",
              "...                 ...               ...               ...               ...   \n",
              "235                   0                 0                 0                 0   \n",
              "236                   0                 0                 0                 0   \n",
              "237                   0                 0                 0                 0   \n",
              "238                   0                 0                 0                 0   \n",
              "239                   0                 0                 0                 0   \n",
              "\n",
              "       Spectral_Class_M  Spectral_Class_O  \n",
              "Index                                      \n",
              "0                     1                 0  \n",
              "1                     1                 0  \n",
              "2                     1                 0  \n",
              "3                     1                 0  \n",
              "4                     1                 0  \n",
              "...                 ...               ...  \n",
              "235                   0                 1  \n",
              "236                   0                 1  \n",
              "237                   0                 0  \n",
              "238                   0                 0  \n",
              "239                   0                 1  \n",
              "\n",
              "[240 rows x 16 columns]"
            ]
          },
          "execution_count": 50,
          "metadata": {},
          "output_type": "execute_result"
        }
      ],
      "source": [
        "stars_ohe = pd.get_dummies(data = stars, columns = ['Color', 'Spectral_Class'], drop_first= True)\n",
        "stars_ohe"
      ]
    },
    {
      "cell_type": "code",
      "execution_count": 51,
      "metadata": {
        "colab": {
          "base_uri": "https://localhost:8080/",
          "height": 370
        },
        "id": "ePYhJw4TXpFw",
        "outputId": "7f33eb9b-f104-464b-c434-924d6b1016c8"
      },
      "outputs": [
        {
          "data": {
            "text/plain": [
              "<AxesSubplot:>"
            ]
          },
          "execution_count": 51,
          "metadata": {},
          "output_type": "execute_result"
        },
        {
          "data": {
            "image/png": "[encoded data removed]",
            "text/plain": [
              "<Figure size 432x288 with 2 Axes>"
            ]
          },
          "metadata": {
            "needs_background": "light"
          },
          "output_type": "display_data"
        }
      ],
      "source": [
        "sns.heatmap(stars_ohe.corr(), \n",
        "            cmap = 'Blues')"
      ]
    },
    {
      "cell_type": "code",
      "execution_count": 52,
      "metadata": {
        "colab": {
          "base_uri": "https://localhost:8080/",
          "height": 648
        },
        "id": "HP4y21phYlpG",
        "outputId": "1a116f64-61b6-4d79-bc8e-a3ec76a83618"
      },
      "outputs": [
        {
          "data": {
            "text/plain": [
              "Text(50.09374999999999, 0.5, 'Features')"
            ]
          },
          "execution_count": 52,
          "metadata": {},
          "output_type": "execute_result"
        },
        {
          "data": {
            "image/png": "[encoded data removed]",
            "text/plain": [
              "<Figure size 576x720 with 2 Axes>"
            ]
          },
          "metadata": {
            "needs_background": "light"
          },
          "output_type": "display_data"
        }
      ],
      "source": [
        " # Visualizing correlation coefficients between features and target variable:\n",
        "fig = plt.figure(figsize=(8,10))\n",
        "ax = sns.heatmap(stars_ohe.corr()[['Type']].sort_values('Type', ascending=False), annot = True, annot_kws= {\"size\":12}, cmap='plasma')\n",
        "ax.set_title('Correlation Coefficient Between Each Feature and Star Type', fontsize=18) \n",
        "ax.set_xlabel('Features', fontsize = 16) \n",
        "ax.set_ylabel('Features', fontsize = 16) \n",
        "#ax.tick_params(axis = \"both\", labelsize = 12)"
      ]
    },
    {
      "cell_type": "code",
      "execution_count": 53,
      "metadata": {
        "id": "coq3f7i9ZuEj"
      },
      "outputs": [],
      "source": [
        "scaler = StandardScaler()"
      ]
    },
    {
      "cell_type": "code",
      "execution_count": 54,
      "metadata": {
        "id": "mAchqQFhaZcz"
      },
      "outputs": [],
      "source": [
        "stars_ohe_scaled = scaler.fit(stars_ohe.drop('Type', axis = 1))\n",
        "stars_ohe_scaled = scaler.transform(stars_ohe.drop('Type', axis = 1))"
      ]
    },
    {
      "cell_type": "code",
      "execution_count": 68,
      "metadata": {
        "id": "SY0n29BfauWK"
      },
      "outputs": [
        {
          "name": "stdout",
          "output_type": "stream",
          "text": [
            "[[-0.29410846 -0.60067155 -0.43252238 ... -0.1382327  -0.90453403\n",
            "  -0.43033148]\n",
            " [-0.77392261 -0.60071842 -0.43498677 ... -0.1382327   1.1055416\n",
            "  -0.43033148]\n",
            " [ 0.28806605 -0.59605474 -0.42303205 ... -0.1382327  -0.90453403\n",
            "  -0.43033148]\n",
            " ...\n",
            " [-0.68912833 -0.60071792 -0.43363421 ...  7.23417814 -0.90453403\n",
            "  -0.43033148]\n",
            " [ 1.52430586  0.86993802  1.8791846  ... -0.1382327  -0.90453403\n",
            "  -0.43033148]\n",
            " [ 1.36274132  0.15091491 -0.36181413 ... -0.1382327  -0.90453403\n",
            "   2.32379001]]\n"
          ]
        }
      ],
      "source": [
        "X = pd.DataFrame(stars_ohe_scaled, columns = stars_ohe.columns[:-1])\n",
        "Y = stars_ohe['Type']\n",
        "\n",
        "X_train, X_test, Y_train, Y_test = train_test_split(X, Y, random_state = 42, test_size = 0.33)\n",
        "\n",
        "scaler = StandardScaler()\n",
        "X_train = scaler.fit_transform(X_train) \n",
        "X_test = scaler.fit_transform(X_test)\n",
        "\n",
        "print(X_train)\n"
      ]
    },
    {
      "cell_type": "code",
      "execution_count": 56,
      "metadata": {
        "id": "3r4m5SDBcI4Q"
      },
      "outputs": [],
      "source": [
        "model_knn_1 = KNeighborsClassifier(n_neighbors= 1)"
      ]
    },
    {
      "cell_type": "code",
      "execution_count": 57,
      "metadata": {
        "id": "nL49rosOdd9M"
      },
      "outputs": [],
      "source": [
        "model_knn_5 = KNeighborsClassifier(n_neighbors= 10)"
      ]
    },
    {
      "cell_type": "code",
      "execution_count": 58,
      "metadata": {
        "colab": {
          "base_uri": "https://localhost:8080/"
        },
        "id": "bBa4gekkcZ0g",
        "outputId": "f2b25eca-684c-4cf9-eedb-6732ac02eb09"
      },
      "outputs": [
        {
          "data": {
            "text/plain": [
              "KNeighborsClassifier(n_neighbors=10)"
            ]
          },
          "execution_count": 58,
          "metadata": {},
          "output_type": "execute_result"
        }
      ],
      "source": [
        "model_knn_1.fit(X_train, Y_train)\n",
        "model_knn_5.fit(X_train, Y_train)"
      ]
    },
    {
      "cell_type": "code",
      "execution_count": 59,
      "metadata": {
        "colab": {
          "base_uri": "https://localhost:8080/"
        },
        "id": "kJH9xP8ncdn9",
        "outputId": "6cd9926f-693b-4052-f064-23fa61fb7197"
      },
      "outputs": [
        {
          "name": "stdout",
          "output_type": "stream",
          "text": [
            "[2 0 3 3 4 5 5 2 0 2 4 2 5 4 5 5 0 1 3 0 0 1 5 3 4 3 1 2 5 3 5 4 2 0 1 0 1\n",
            " 5 1 5 4 5 4 1 3 0 4 3 1 0 2 0 2 1 4 2 5 3 1 1 3 0 0 0 4 0 4 2 5 1 5 5 2 0\n",
            " 1 2 0 5 4 3]\n",
            "[2 0 3 4 4 5 3 2 0 2 4 2 5 4 5 3 0 1 3 0 0 1 4 4 4 3 1 2 2 3 1 4 3 0 1 0 1\n",
            " 5 1 5 4 5 4 1 3 0 4 3 1 0 2 0 2 1 4 2 5 3 1 1 3 0 0 0 4 0 4 2 5 1 3 5 2 0\n",
            " 1 2 0 5 4 4]\n"
          ]
        }
      ],
      "source": [
        "predict_knn_1 = model_knn_1.predict(X_test)\n",
        "predict_knn_5 = model_knn_5.predict(X_test)\n",
        "\n",
        "print(predict_knn_1)\n",
        "print(predict_knn_5)"
      ]
    },
    {
      "cell_type": "code",
      "execution_count": 60,
      "metadata": {
        "colab": {
          "base_uri": "https://localhost:8080/"
        },
        "id": "aunQbdmhcq4i",
        "outputId": "0bbe230e-0a66-49dd-bc34-332cfb2b4b61"
      },
      "outputs": [
        {
          "name": "stdout",
          "output_type": "stream",
          "text": [
            "[[16  0  0  0  0  0]\n",
            " [ 0 13  0  0  0  0]\n",
            " [ 0  0 12  0  0  0]\n",
            " [ 0  0  0 10  0  1]\n",
            " [ 0  0  0  1 11  0]\n",
            " [ 0  0  0  0  1 15]]\n",
            "[[16  0  0  0  0  0]\n",
            " [ 0 13  0  0  0  0]\n",
            " [ 0  0 11  1  0  0]\n",
            " [ 0  1  0  8  2  0]\n",
            " [ 0  0  0  0 12  0]\n",
            " [ 0  0  1  3  2 10]]\n"
          ]
        }
      ],
      "source": [
        "print(confusion_matrix(Y_test, predict_knn_1))\n",
        "print(confusion_matrix(Y_test, predict_knn_5))"
      ]
    },
    {
      "cell_type": "code",
      "execution_count": 61,
      "metadata": {
        "colab": {
          "base_uri": "https://localhost:8080/"
        },
        "id": "sWvXA6Src3YS",
        "outputId": "30df3959-868f-4418-870b-e104e564d5a6"
      },
      "outputs": [
        {
          "name": "stdout",
          "output_type": "stream",
          "text": [
            "              precision    recall  f1-score   support\n",
            "\n",
            "           0       1.00      1.00      1.00        16\n",
            "           1       1.00      1.00      1.00        13\n",
            "           2       1.00      1.00      1.00        12\n",
            "           3       0.91      0.91      0.91        11\n",
            "           4       0.92      0.92      0.92        12\n",
            "           5       0.94      0.94      0.94        16\n",
            "\n",
            "    accuracy                           0.96        80\n",
            "   macro avg       0.96      0.96      0.96        80\n",
            "weighted avg       0.96      0.96      0.96        80\n",
            "\n",
            "              precision    recall  f1-score   support\n",
            "\n",
            "           0       1.00      1.00      1.00        16\n",
            "           1       0.93      1.00      0.96        13\n",
            "           2       0.92      0.92      0.92        12\n",
            "           3       0.67      0.73      0.70        11\n",
            "           4       0.75      1.00      0.86        12\n",
            "           5       1.00      0.62      0.77        16\n",
            "\n",
            "    accuracy                           0.88        80\n",
            "   macro avg       0.88      0.88      0.87        80\n",
            "weighted avg       0.89      0.88      0.87        80\n",
            "\n"
          ]
        }
      ],
      "source": [
        "print(classification_report(Y_test,predict_knn_1))\n",
        "print(classification_report(Y_test,predict_knn_5))"
      ]
    },
    {
      "cell_type": "code",
      "execution_count": 62,
      "metadata": {
        "colab": {
          "base_uri": "https://localhost:8080/",
          "height": 422
        },
        "id": "KzQMGdbEdEg0",
        "outputId": "80ab24fd-9fda-4a8a-fec4-9424432186c3"
      },
      "outputs": [
        {
          "data": {
            "text/plain": [
              "Text(0, 0.5, 'Error Rate')"
            ]
          },
          "execution_count": 62,
          "metadata": {},
          "output_type": "execute_result"
        },
        {
          "data": {
            "image/png": "[encoded data removed]",
            "text/plain": [
              "<Figure size 720x432 with 1 Axes>"
            ]
          },
          "metadata": {
            "needs_background": "light"
          },
          "output_type": "display_data"
        }
      ],
      "source": [
        "error_rate= []\n",
        "for i in range(1,40):\n",
        "    model_knn = KNeighborsClassifier(n_neighbors = i)\n",
        "    model_knn.fit(X_train,Y_train)\n",
        "    predict_knn_i = model_knn.predict(X_test)\n",
        "    error_rate.append(np.mean(predict_knn_i != Y_test))\n",
        "plt.figure(figsize = (10,6))\n",
        "plt.plot(range(1,40),error_rate,color = 'blue',linestyle = '--',marker = 'o',markerfacecolor='red',markersize = 10)\n",
        "plt.title('Error Rate vs K')\n",
        "plt.xlabel('K')\n",
        "plt.ylabel('Error Rate')"
      ]
    },
    {
      "cell_type": "code",
      "execution_count": 63,
      "metadata": {
        "colab": {
          "base_uri": "https://localhost:8080/"
        },
        "id": "Zm74c4yagAkf",
        "outputId": "d9df696e-879a-4461-d7be-444ed6edb487"
      },
      "outputs": [
        {
          "name": "stdout",
          "output_type": "stream",
          "text": [
            "0.875\n"
          ]
        }
      ],
      "source": [
        "print(model_knn_5.score(X_test, Y_test))"
      ]
    },
    {
      "cell_type": "code",
      "execution_count": 64,
      "metadata": {
        "colab": {
          "base_uri": "https://localhost:8080/",
          "height": 441
        },
        "id": "chAxti8Xzkxc",
        "outputId": "6ad8dcee-8735-4cb7-e5e1-449148148484"
      },
      "outputs": [
        {
          "name": "stdout",
          "output_type": "stream",
          "text": [
            "[0.95833333 0.95833333 0.875      1.         0.91666667 1.\n",
            " 0.95833333 0.95833333 1.         0.91666667]\n",
            "0.9541666666666666\n"
          ]
        },
        {
          "data": {
            "image/png": "[encoded data removed]",
            "text/plain": [
              "<Figure size 720x432 with 1 Axes>"
            ]
          },
          "metadata": {
            "needs_background": "light"
          },
          "output_type": "display_data"
        }
      ],
      "source": [
        "cv_scores = cross_val_score(model_knn_1, X, Y, cv = 10, scoring = 'accuracy')\n",
        "print(cv_scores)\n",
        "\n",
        "avg_cv_scores = np.mean(cv_scores)\n",
        "print(avg_cv_scores)\n",
        "\n",
        "# choose k between 1 to 40\n",
        "k_range = range(1, 40)\n",
        "k_scores = []\n",
        "# use iteration to caclulator different k in models, then return the average accuracy based on the cross validation\n",
        "for k in k_range:\n",
        "    knn = KNeighborsClassifier(n_neighbors=k)\n",
        "    scores = cross_val_score(knn, X, Y, cv=5, scoring='accuracy')\n",
        "    k_scores.append(scores.mean())\n",
        "\n",
        "# plot to see clearly\n",
        "plt.figure(figsize = (10,6))\n",
        "plt.plot(k_range, k_scores, color = 'blue',linestyle = '--',marker = 'o',markerfacecolor='red',markersize = 10)\n",
        "plt.xlabel('Value of K for KNN')\n",
        "plt.ylabel('Cross-Validated Accuracy')\n",
        "plt.show()"
      ]
    },
    {
      "cell_type": "code",
      "execution_count": 65,
      "metadata": {
        "colab": {
          "base_uri": "https://localhost:8080/"
        },
        "id": "3zhP-BjJ2FR6",
        "outputId": "daec1e0b-6e73-47c2-f2e0-2d8243716863"
      },
      "outputs": [
        {
          "name": "stdout",
          "output_type": "stream",
          "text": [
            "KNeighborsClassifier(n_neighbors=1)\n",
            "0.975\n"
          ]
        }
      ],
      "source": [
        "params={'n_neighbors': range(1,40)}\n",
        "params\n",
        "\n",
        "model_knn_grid = GridSearchCV(KNeighborsClassifier(), params, cv=10, scoring='accuracy')\n",
        "model_knn_grid.fit(X_train, Y_train)\n",
        "\n",
        "GridSearchCV(cv=10, estimator=KNeighborsClassifier(),\n",
        "             param_grid={'n_neighbors': range(1, 40)}, scoring='accuracy')\n",
        "\n",
        "print(model_knn_grid.best_estimator_)\n",
        "print(model_knn_grid.best_score_)\n"
      ]
    },
    {
      "cell_type": "code",
      "execution_count": 66,
      "metadata": {},
      "outputs": [],
      "source": [
        "st.header(\"NASA Star Type Classification:\")\n",
        "image = Image.open('/Users/shuchitamishra/Desktop/Jobs/OA/NASA-Star-Type-Classification/nasaimage.jpeg')\n",
        "st.image(image, use_column_width=True)\n",
        "st.write(\"Please insert values, to get Star type class prediction\")"
      ]
    },
    {
      "cell_type": "code",
      "execution_count": 83,
      "metadata": {},
      "outputs": [
        {
          "data": {
            "text/html": [
              "<div>\n",
              "<style scoped>\n",
              "    .dataframe tbody tr th:only-of-type {\n",
              "        vertical-align: middle;\n",
              "    }\n",
              "\n",
              "    .dataframe tbody tr th {\n",
              "        vertical-align: top;\n",
              "    }\n",
              "\n",
              "    .dataframe thead th {\n",
              "        text-align: right;\n",
              "    }\n",
              "</style>\n",
              "<table border=\"1\" class=\"dataframe\">\n",
              "  <thead>\n",
              "    <tr style=\"text-align: right;\">\n",
              "      <th></th>\n",
              "      <th>Temperature</th>\n",
              "      <th>L</th>\n",
              "      <th>R</th>\n",
              "      <th>A_M</th>\n",
              "      <th>Type</th>\n",
              "      <th>Color_Blue-White</th>\n",
              "      <th>Color_Orange</th>\n",
              "      <th>Color_Red</th>\n",
              "      <th>Color_White</th>\n",
              "      <th>Color_White-Yellow</th>\n",
              "      <th>Spectral_Class_B</th>\n",
              "      <th>Spectral_Class_F</th>\n",
              "      <th>Spectral_Class_G</th>\n",
              "      <th>Spectral_Class_K</th>\n",
              "      <th>Spectral_Class_M</th>\n",
              "    </tr>\n",
              "  </thead>\n",
              "  <tbody>\n",
              "    <tr>\n",
              "      <th>0</th>\n",
              "      <td>-0.779382</td>\n",
              "      <td>-0.598624</td>\n",
              "      <td>-0.459210</td>\n",
              "      <td>1.116745</td>\n",
              "      <td>-0.453905</td>\n",
              "      <td>-0.112509</td>\n",
              "      <td>1.060139</td>\n",
              "      <td>-0.229416</td>\n",
              "      <td>-0.258199</td>\n",
              "      <td>-0.486943</td>\n",
              "      <td>-0.276104</td>\n",
              "      <td>-0.064685</td>\n",
              "      <td>-0.160128</td>\n",
              "      <td>1.078036</td>\n",
              "      <td>-0.447214</td>\n",
              "    </tr>\n",
              "    <tr>\n",
              "      <th>1</th>\n",
              "      <td>-0.782110</td>\n",
              "      <td>-0.598624</td>\n",
              "      <td>-0.459241</td>\n",
              "      <td>1.162414</td>\n",
              "      <td>-0.453905</td>\n",
              "      <td>-0.112509</td>\n",
              "      <td>1.060139</td>\n",
              "      <td>-0.229416</td>\n",
              "      <td>-0.258199</td>\n",
              "      <td>-0.486943</td>\n",
              "      <td>-0.276104</td>\n",
              "      <td>-0.064685</td>\n",
              "      <td>-0.160128</td>\n",
              "      <td>1.078036</td>\n",
              "      <td>-0.447214</td>\n",
              "    </tr>\n",
              "    <tr>\n",
              "      <th>2</th>\n",
              "      <td>-0.828477</td>\n",
              "      <td>-0.598624</td>\n",
              "      <td>-0.459342</td>\n",
              "      <td>1.362213</td>\n",
              "      <td>-0.453905</td>\n",
              "      <td>-0.112509</td>\n",
              "      <td>1.060139</td>\n",
              "      <td>-0.229416</td>\n",
              "      <td>-0.258199</td>\n",
              "      <td>-0.486943</td>\n",
              "      <td>-0.276104</td>\n",
              "      <td>-0.064685</td>\n",
              "      <td>-0.160128</td>\n",
              "      <td>1.078036</td>\n",
              "      <td>-0.447214</td>\n",
              "    </tr>\n",
              "    <tr>\n",
              "      <th>3</th>\n",
              "      <td>-0.807496</td>\n",
              "      <td>-0.598624</td>\n",
              "      <td>-0.459229</td>\n",
              "      <td>1.167171</td>\n",
              "      <td>-0.453905</td>\n",
              "      <td>-0.112509</td>\n",
              "      <td>1.060139</td>\n",
              "      <td>-0.229416</td>\n",
              "      <td>-0.258199</td>\n",
              "      <td>-0.486943</td>\n",
              "      <td>-0.276104</td>\n",
              "      <td>-0.064685</td>\n",
              "      <td>-0.160128</td>\n",
              "      <td>1.078036</td>\n",
              "      <td>-0.447214</td>\n",
              "    </tr>\n",
              "    <tr>\n",
              "      <th>4</th>\n",
              "      <td>-0.897819</td>\n",
              "      <td>-0.598624</td>\n",
              "      <td>-0.459340</td>\n",
              "      <td>1.491607</td>\n",
              "      <td>-0.453905</td>\n",
              "      <td>-0.112509</td>\n",
              "      <td>1.060139</td>\n",
              "      <td>-0.229416</td>\n",
              "      <td>-0.258199</td>\n",
              "      <td>-0.486943</td>\n",
              "      <td>-0.276104</td>\n",
              "      <td>-0.064685</td>\n",
              "      <td>-0.160128</td>\n",
              "      <td>1.078036</td>\n",
              "      <td>-0.447214</td>\n",
              "    </tr>\n",
              "    <tr>\n",
              "      <th>...</th>\n",
              "      <td>...</td>\n",
              "      <td>...</td>\n",
              "      <td>...</td>\n",
              "      <td>...</td>\n",
              "      <td>...</td>\n",
              "      <td>...</td>\n",
              "      <td>...</td>\n",
              "      <td>...</td>\n",
              "      <td>...</td>\n",
              "      <td>...</td>\n",
              "      <td>...</td>\n",
              "      <td>...</td>\n",
              "      <td>...</td>\n",
              "      <td>...</td>\n",
              "      <td>...</td>\n",
              "    </tr>\n",
              "    <tr>\n",
              "      <th>235</th>\n",
              "      <td>2.983743</td>\n",
              "      <td>1.494720</td>\n",
              "      <td>2.167974</td>\n",
              "      <td>-1.361718</td>\n",
              "      <td>-0.453905</td>\n",
              "      <td>-0.112509</td>\n",
              "      <td>-0.943273</td>\n",
              "      <td>-0.229416</td>\n",
              "      <td>-0.258199</td>\n",
              "      <td>-0.486943</td>\n",
              "      <td>-0.276104</td>\n",
              "      <td>-0.064685</td>\n",
              "      <td>-0.160128</td>\n",
              "      <td>-0.927613</td>\n",
              "      <td>2.236068</td>\n",
              "    </tr>\n",
              "    <tr>\n",
              "      <th>236</th>\n",
              "      <td>2.133913</td>\n",
              "      <td>4.059319</td>\n",
              "      <td>1.854068</td>\n",
              "      <td>-1.428317</td>\n",
              "      <td>-0.453905</td>\n",
              "      <td>-0.112509</td>\n",
              "      <td>-0.943273</td>\n",
              "      <td>-0.229416</td>\n",
              "      <td>-0.258199</td>\n",
              "      <td>-0.486943</td>\n",
              "      <td>-0.276104</td>\n",
              "      <td>-0.064685</td>\n",
              "      <td>-0.160128</td>\n",
              "      <td>-0.927613</td>\n",
              "      <td>2.236068</td>\n",
              "    </tr>\n",
              "    <tr>\n",
              "      <th>237</th>\n",
              "      <td>-0.175029</td>\n",
              "      <td>2.403157</td>\n",
              "      <td>2.297800</td>\n",
              "      <td>-1.437832</td>\n",
              "      <td>-0.453905</td>\n",
              "      <td>-0.112509</td>\n",
              "      <td>-0.943273</td>\n",
              "      <td>4.358899</td>\n",
              "      <td>-0.258199</td>\n",
              "      <td>-0.486943</td>\n",
              "      <td>-0.276104</td>\n",
              "      <td>-0.064685</td>\n",
              "      <td>-0.160128</td>\n",
              "      <td>-0.927613</td>\n",
              "      <td>-0.447214</td>\n",
              "    </tr>\n",
              "    <tr>\n",
              "      <th>238</th>\n",
              "      <td>-0.132438</td>\n",
              "      <td>1.662878</td>\n",
              "      <td>1.695177</td>\n",
              "      <td>-1.485403</td>\n",
              "      <td>-0.453905</td>\n",
              "      <td>-0.112509</td>\n",
              "      <td>-0.943273</td>\n",
              "      <td>4.358899</td>\n",
              "      <td>-0.258199</td>\n",
              "      <td>-0.486943</td>\n",
              "      <td>-0.276104</td>\n",
              "      <td>-0.064685</td>\n",
              "      <td>-0.160128</td>\n",
              "      <td>-0.927613</td>\n",
              "      <td>-0.447214</td>\n",
              "    </tr>\n",
              "    <tr>\n",
              "      <th>239</th>\n",
              "      <td>2.872754</td>\n",
              "      <td>1.048345</td>\n",
              "      <td>2.995370</td>\n",
              "      <td>-1.159064</td>\n",
              "      <td>-0.453905</td>\n",
              "      <td>-0.112509</td>\n",
              "      <td>-0.943273</td>\n",
              "      <td>-0.229416</td>\n",
              "      <td>-0.258199</td>\n",
              "      <td>-0.486943</td>\n",
              "      <td>-0.276104</td>\n",
              "      <td>-0.064685</td>\n",
              "      <td>-0.160128</td>\n",
              "      <td>-0.927613</td>\n",
              "      <td>2.236068</td>\n",
              "    </tr>\n",
              "  </tbody>\n",
              "</table>\n",
              "<p>240 rows × 15 columns</p>\n",
              "</div>"
            ],
            "text/plain": [
              "     Temperature         L         R       A_M      Type  Color_Blue-White  \\\n",
              "0      -0.779382 -0.598624 -0.459210  1.116745 -0.453905         -0.112509   \n",
              "1      -0.782110 -0.598624 -0.459241  1.162414 -0.453905         -0.112509   \n",
              "2      -0.828477 -0.598624 -0.459342  1.362213 -0.453905         -0.112509   \n",
              "3      -0.807496 -0.598624 -0.459229  1.167171 -0.453905         -0.112509   \n",
              "4      -0.897819 -0.598624 -0.459340  1.491607 -0.453905         -0.112509   \n",
              "..           ...       ...       ...       ...       ...               ...   \n",
              "235     2.983743  1.494720  2.167974 -1.361718 -0.453905         -0.112509   \n",
              "236     2.133913  4.059319  1.854068 -1.428317 -0.453905         -0.112509   \n",
              "237    -0.175029  2.403157  2.297800 -1.437832 -0.453905         -0.112509   \n",
              "238    -0.132438  1.662878  1.695177 -1.485403 -0.453905         -0.112509   \n",
              "239     2.872754  1.048345  2.995370 -1.159064 -0.453905         -0.112509   \n",
              "\n",
              "     Color_Orange  Color_Red  Color_White  Color_White-Yellow  \\\n",
              "0        1.060139  -0.229416    -0.258199           -0.486943   \n",
              "1        1.060139  -0.229416    -0.258199           -0.486943   \n",
              "2        1.060139  -0.229416    -0.258199           -0.486943   \n",
              "3        1.060139  -0.229416    -0.258199           -0.486943   \n",
              "4        1.060139  -0.229416    -0.258199           -0.486943   \n",
              "..            ...        ...          ...                 ...   \n",
              "235     -0.943273  -0.229416    -0.258199           -0.486943   \n",
              "236     -0.943273  -0.229416    -0.258199           -0.486943   \n",
              "237     -0.943273   4.358899    -0.258199           -0.486943   \n",
              "238     -0.943273   4.358899    -0.258199           -0.486943   \n",
              "239     -0.943273  -0.229416    -0.258199           -0.486943   \n",
              "\n",
              "     Spectral_Class_B  Spectral_Class_F  Spectral_Class_G  Spectral_Class_K  \\\n",
              "0           -0.276104         -0.064685         -0.160128          1.078036   \n",
              "1           -0.276104         -0.064685         -0.160128          1.078036   \n",
              "2           -0.276104         -0.064685         -0.160128          1.078036   \n",
              "3           -0.276104         -0.064685         -0.160128          1.078036   \n",
              "4           -0.276104         -0.064685         -0.160128          1.078036   \n",
              "..                ...               ...               ...               ...   \n",
              "235         -0.276104         -0.064685         -0.160128         -0.927613   \n",
              "236         -0.276104         -0.064685         -0.160128         -0.927613   \n",
              "237         -0.276104         -0.064685         -0.160128         -0.927613   \n",
              "238         -0.276104         -0.064685         -0.160128         -0.927613   \n",
              "239         -0.276104         -0.064685         -0.160128         -0.927613   \n",
              "\n",
              "     Spectral_Class_M  \n",
              "0           -0.447214  \n",
              "1           -0.447214  \n",
              "2           -0.447214  \n",
              "3           -0.447214  \n",
              "4           -0.447214  \n",
              "..                ...  \n",
              "235          2.236068  \n",
              "236          2.236068  \n",
              "237         -0.447214  \n",
              "238         -0.447214  \n",
              "239          2.236068  \n",
              "\n",
              "[240 rows x 15 columns]"
            ]
          },
          "execution_count": 83,
          "metadata": {},
          "output_type": "execute_result"
        }
      ],
      "source": [
        "X"
      ]
    },
    {
      "cell_type": "code",
      "execution_count": 95,
      "metadata": {},
      "outputs": [
        {
          "name": "stdout",
          "output_type": "stream",
          "text": [
            "[-0.47050403 -0.47050403  2.12538029 -0.47050403 -0.47050403  2.12538029\n",
            " -0.47050403 -0.47050403 -0.47050403 -0.47050403 -0.47050403 -0.47050403\n",
            " -0.47050403 -0.47050403 -0.47050403 -0.47050403 -0.47050403 -0.47050403\n",
            " -0.47050403  2.12538029 -0.47050403 -0.47050403  2.12538029 -0.47050403\n",
            " -0.47050403 -0.47050403 -0.47050403 -0.47050403 -0.47050403 -0.47050403\n",
            " -0.47050403 -0.47050403 -0.47050403  2.12538029 -0.47050403 -0.47050403\n",
            "  2.12538029 -0.47050403  2.12538029  2.12538029 -0.47050403  2.12538029\n",
            " -0.47050403 -0.47050403 -0.47050403  2.12538029 -0.47050403 -0.47050403\n",
            " -0.47050403  2.12538029 -0.47050403 -0.47050403 -0.47050403 -0.47050403\n",
            "  2.12538029 -0.47050403 -0.47050403 -0.47050403 -0.47050403 -0.47050403\n",
            "  2.12538029 -0.47050403 -0.47050403 -0.47050403 -0.47050403 -0.47050403\n",
            "  2.12538029 -0.47050403 -0.47050403 -0.47050403  2.12538029 -0.47050403\n",
            " -0.47050403 -0.47050403 -0.47050403 -0.47050403  2.12538029 -0.47050403\n",
            " -0.47050403  2.12538029 -0.47050403 -0.47050403 -0.47050403 -0.47050403\n",
            " -0.47050403  2.12538029 -0.47050403 -0.47050403 -0.47050403 -0.47050403\n",
            " -0.47050403 -0.47050403 -0.47050403 -0.47050403 -0.47050403 -0.47050403\n",
            "  2.12538029  2.12538029  2.12538029 -0.47050403 -0.47050403 -0.47050403\n",
            " -0.47050403 -0.47050403 -0.47050403 -0.47050403 -0.47050403 -0.47050403\n",
            " -0.47050403 -0.47050403 -0.47050403 -0.47050403 -0.47050403 -0.47050403\n",
            " -0.47050403 -0.47050403 -0.47050403 -0.47050403 -0.47050403 -0.47050403\n",
            " -0.47050403  2.12538029 -0.47050403 -0.47050403 -0.47050403 -0.47050403\n",
            " -0.47050403 -0.47050403 -0.47050403 -0.47050403 -0.47050403 -0.47050403\n",
            " -0.47050403 -0.47050403 -0.47050403  2.12538029 -0.47050403 -0.47050403\n",
            " -0.47050403  2.12538029 -0.47050403  2.12538029 -0.47050403 -0.47050403\n",
            " -0.47050403  2.12538029 -0.47050403 -0.47050403 -0.47050403  2.12538029\n",
            " -0.47050403 -0.47050403  2.12538029 -0.47050403 -0.47050403 -0.47050403\n",
            " -0.47050403 -0.47050403  2.12538029 -0.47050403]\n"
          ]
        }
      ],
      "source": [
        "print(X_train[:, 4])"
      ]
    },
    {
      "cell_type": "code",
      "execution_count": 99,
      "metadata": {},
      "outputs": [],
      "source": [
        "Temperature_ip = st.slider('Temperature:', -0.92 ,3.0)\n",
        "L_ip = st.slider('Luminosity:', -0.6, 4.3)\n",
        "R_ip = st.slider('Relative radius',-0.4, 3.5)\n",
        "A_M_ip = st.slider('Absolute Magnitude:', -1.5, 3.5)\n",
        "Type_ip = st.radio(\"Type:\", (\"-0.47\" ,\"2.12\"))\n",
        "genre = st.radio(\n",
        "     \"What's your favorite movie genre\",\n",
        "     ('Comedy', 'Drama', 'Documentary'))\n",
        "Color_Blue_White_ip = st.radio(\"Is the color blue-white?\", [\"0\", \"1\"])\n",
        "Color_Orange_ip = st.radio(\"Is the color orange?\", [\"0\", \"1\"])\n",
        "Color_Red_ip = st.radio(\"Is the color red?\", [\"0\", \"1\"])\n",
        "Color_White_ip = st.radio(\"Is the color white?\", [\"0\", \"1\"])\n",
        "Color_White_Yellow_ip = st.radio(\"Is the color white-yellow?\", [\"0\", \"1\"])\n",
        "Class_B_ip = st.radio(\"Is the spectral class B?\", [\"0\", \"1\"])\n",
        "Class_F_ip = st.radio(\"Is the spectral class F?\", [\"0\", \"1\"])\n",
        "Class_G_ip = st.radio(\"Is the spectral class G?\", [\"0\", \"1\"])\n",
        "Class_K_ip = st.radio(\"Is the spectral class K?\", [\"0\", \"1\"])\n",
        "Class_M_ip = st.radio(\"Is the spectral class M?\", [\"0\", \"1\"])\n",
        "\n",
        "data = {'Temperature': Temperature_ip,\n",
        "        'Luminosity': L_ip,\n",
        "        'Relative radius': R_ip,\n",
        "        'Absolute magnitude': A_M_ip,\n",
        "        'Type' : Type_ip,\n",
        "        'Color_Blue_White' : Color_Blue_White_ip,\n",
        "        'Color_Orange' : Color_Orange_ip,\n",
        "        'Color_Red' : Color_Red_ip,\n",
        "        'Color_White' : Color_White_ip,\n",
        "        'Color_White_Yellow' : Color_White_Yellow_ip,\n",
        "        'Class_B' : Class_B_ip,\n",
        "        'Class_F' : Class_F_ip,\n",
        "        'Class_G' : Class_G_ip,\n",
        "        'Class_K' : Class_K_ip,\n",
        "        'Class_M' : Class_M_ip,\n",
        "        }"
      ]
    },
    {
      "cell_type": "code",
      "execution_count": 100,
      "metadata": {},
      "outputs": [
        {
          "data": {
            "text/plain": [
              "(1, 15)"
            ]
          },
          "execution_count": 100,
          "metadata": {},
          "output_type": "execute_result"
        }
      ],
      "source": [
        "features = pd.DataFrame(data, index=[0])\n",
        "features.shape\n",
        "#X_train.shape"
      ]
    },
    {
      "cell_type": "code",
      "execution_count": 101,
      "metadata": {},
      "outputs": [],
      "source": [
        "pred_proba = model_knn_5.predict_proba(features)\n",
        "#or\n",
        "prediction = model_knn_5.predict(features)"
      ]
    },
    {
      "cell_type": "code",
      "execution_count": 102,
      "metadata": {},
      "outputs": [
        {
          "data": {
            "text/plain": [
              "array([[0. , 0.2, 0. , 0. , 0.8, 0. ]])"
            ]
          },
          "execution_count": 102,
          "metadata": {},
          "output_type": "execute_result"
        }
      ],
      "source": [
        "pred_proba"
      ]
    },
    {
      "cell_type": "code",
      "execution_count": 103,
      "metadata": {},
      "outputs": [],
      "source": [
        "st.subheader('Prediction Percentages:') \n",
        "st.write('**Probablity of Star Type being B is ( in % )**:',pred_proba[0][0]*100)\n",
        "st.write('**Probablity of Star Type being F is ( in % )**:',pred_proba[0][1]*100)\n",
        "st.write('**Probablity of Star Type being G is ( in % )**:',pred_proba[0][2]*100)\n",
        "st.write('**Probablity of Star Type being K is ( in % )**:',pred_proba[0][3]*100)\n",
        "st.write('**Probablity of Star Type being M is ( in % )**:',pred_proba[0][4]*100)"
      ]
    },
    {
      "cell_type": "code",
      "execution_count": null,
      "metadata": {},
      "outputs": [],
      "source": []
    }
  ],
  "metadata": {
    "colab": {
      "collapsed_sections": [],
      "name": "NASA-Star-Type-Classification.ipynb",
      "provenance": []
    },
    "kernelspec": {
      "display_name": "Python 3",
      "name": "python3"
    },
    "language_info": {
      "codemirror_mode": {
        "name": "ipython",
        "version": 3
      },
      "file_extension": ".py",
      "mimetype": "text/x-python",
      "name": "python",
      "nbconvert_exporter": "python",
      "pygments_lexer": "ipython3",
      "version": "3.9.7"
    }
  },
  "nbformat": 4,
  "nbformat_minor": 0
}
